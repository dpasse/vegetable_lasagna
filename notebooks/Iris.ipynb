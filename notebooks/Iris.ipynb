{
 "cells": [
  {
   "cell_type": "markdown",
   "metadata": {},
   "source": [
    "## Iris data set\n",
    "\n",
    "- keras nn classifier\n",
    " - save / load example\n",
    " \n",
    "- gaussian bayes\n",
    " - save / load example"
   ]
  },
  {
   "cell_type": "code",
   "execution_count": 1,
   "metadata": {},
   "outputs": [],
   "source": [
    "%config IPCompleter.greedy=True"
   ]
  },
  {
   "cell_type": "code",
   "execution_count": null,
   "metadata": {},
   "outputs": [],
   "source": []
  },
  {
   "cell_type": "code",
   "execution_count": 2,
   "metadata": {},
   "outputs": [],
   "source": [
    "import warnings\n",
    "\n",
    "warnings.filterwarnings('ignore')"
   ]
  },
  {
   "cell_type": "code",
   "execution_count": 3,
   "metadata": {},
   "outputs": [
    {
     "name": "stdout",
     "output_type": "stream",
     "text": [
      "0.21.3\n"
     ]
    }
   ],
   "source": [
    "import sklearn\n",
    "\n",
    "from sklearn import datasets\n",
    "from sklearn.preprocessing import OneHotEncoder\n",
    "from sklearn.preprocessing import StandardScaler\n",
    "from sklearn.model_selection import train_test_split\n",
    "\n",
    "print(sklearn.__version__)"
   ]
  },
  {
   "cell_type": "code",
   "execution_count": null,
   "metadata": {},
   "outputs": [],
   "source": []
  },
  {
   "cell_type": "code",
   "execution_count": 4,
   "metadata": {},
   "outputs": [],
   "source": [
    "iris = datasets.load_iris()\n",
    "\n",
    "X = StandardScaler().fit_transform(iris.data)\n",
    "y = OneHotEncoder().fit_transform(iris.target.reshape(-1, 1)) # [1, 0, 0]"
   ]
  },
  {
   "cell_type": "code",
   "execution_count": null,
   "metadata": {},
   "outputs": [],
   "source": []
  },
  {
   "cell_type": "code",
   "execution_count": 5,
   "metadata": {},
   "outputs": [],
   "source": [
    "X_train, X_test, y_train, y_test = train_test_split(X, y, test_size=0.33, random_state=42)"
   ]
  },
  {
   "cell_type": "code",
   "execution_count": null,
   "metadata": {},
   "outputs": [],
   "source": []
  },
  {
   "cell_type": "code",
   "execution_count": 6,
   "metadata": {},
   "outputs": [
    {
     "name": "stderr",
     "output_type": "stream",
     "text": [
      "Using TensorFlow backend.\n"
     ]
    }
   ],
   "source": [
    "from keras.models import Sequential\n",
    "from keras.layers import Dense"
   ]
  },
  {
   "cell_type": "code",
   "execution_count": null,
   "metadata": {},
   "outputs": [],
   "source": []
  },
  {
   "cell_type": "code",
   "execution_count": 7,
   "metadata": {
    "scrolled": true
   },
   "outputs": [
    {
     "name": "stderr",
     "output_type": "stream",
     "text": [
      "WARNING: Logging before flag parsing goes to stderr.\n",
      "W1104 05:57:36.168781 4780582336 deprecation_wrapper.py:119] From /usr/local/lib/python3.7/site-packages/keras/backend/tensorflow_backend.py:66: The name tf.get_default_graph is deprecated. Please use tf.compat.v1.get_default_graph instead.\n",
      "\n",
      "W1104 05:57:36.181734 4780582336 deprecation_wrapper.py:119] From /usr/local/lib/python3.7/site-packages/keras/backend/tensorflow_backend.py:541: The name tf.placeholder is deprecated. Please use tf.compat.v1.placeholder instead.\n",
      "\n",
      "W1104 05:57:36.184063 4780582336 deprecation_wrapper.py:119] From /usr/local/lib/python3.7/site-packages/keras/backend/tensorflow_backend.py:4432: The name tf.random_uniform is deprecated. Please use tf.random.uniform instead.\n",
      "\n",
      "W1104 05:57:36.209430 4780582336 deprecation_wrapper.py:119] From /usr/local/lib/python3.7/site-packages/keras/optimizers.py:793: The name tf.train.Optimizer is deprecated. Please use tf.compat.v1.train.Optimizer instead.\n",
      "\n",
      "W1104 05:57:36.230735 4780582336 deprecation_wrapper.py:119] From /usr/local/lib/python3.7/site-packages/keras/backend/tensorflow_backend.py:3576: The name tf.log is deprecated. Please use tf.math.log instead.\n",
      "\n"
     ]
    },
    {
     "name": "stdout",
     "output_type": "stream",
     "text": [
      "Model: \"sequential_1\"\n",
      "_________________________________________________________________\n",
      "Layer (type)                 Output Shape              Param #   \n",
      "=================================================================\n",
      "dense_1 (Dense)              (None, 12)                60        \n",
      "_________________________________________________________________\n",
      "dense_2 (Dense)              (None, 3)                 39        \n",
      "=================================================================\n",
      "Total params: 99\n",
      "Trainable params: 99\n",
      "Non-trainable params: 0\n",
      "_________________________________________________________________\n"
     ]
    }
   ],
   "source": [
    "dim = len(X[0])\n",
    "\n",
    "nn = Sequential()\n",
    "nn.add(Dense(units = 12, activation = 'relu', input_dim = dim))\n",
    "nn.add(Dense(units = 3, activation = 'softmax'))\n",
    "\n",
    "nn.compile(loss = 'categorical_crossentropy', optimizer = 'adam', metrics = ['accuracy'])\n",
    "\n",
    "nn.summary()"
   ]
  },
  {
   "cell_type": "code",
   "execution_count": null,
   "metadata": {},
   "outputs": [],
   "source": []
  },
  {
   "cell_type": "code",
   "execution_count": 8,
   "metadata": {
    "scrolled": false
   },
   "outputs": [
    {
     "name": "stderr",
     "output_type": "stream",
     "text": [
      "W1104 05:57:36.328423 4780582336 deprecation.py:323] From /usr/local/lib/python3.7/site-packages/tensorflow/python/ops/math_grad.py:1250: add_dispatch_support.<locals>.wrapper (from tensorflow.python.ops.array_ops) is deprecated and will be removed in a future version.\n",
      "Instructions for updating:\n",
      "Use tf.where in 2.0, which has the same broadcast rule as np.where\n",
      "W1104 05:57:36.371834 4780582336 deprecation_wrapper.py:119] From /usr/local/lib/python3.7/site-packages/keras/backend/tensorflow_backend.py:1033: The name tf.assign_add is deprecated. Please use tf.compat.v1.assign_add instead.\n",
      "\n"
     ]
    },
    {
     "name": "stdout",
     "output_type": "stream",
     "text": [
      "Epoch 1/100\n",
      "100/100 [==============================] - 0s 2ms/step - loss: 1.3448 - acc: 0.0900\n",
      "Epoch 2/100\n",
      "100/100 [==============================] - 0s 210us/step - loss: 1.2341 - acc: 0.1600\n",
      "Epoch 3/100\n",
      "100/100 [==============================] - 0s 276us/step - loss: 1.1428 - acc: 0.2500\n",
      "Epoch 4/100\n",
      "100/100 [==============================] - 0s 260us/step - loss: 1.0711 - acc: 0.3600\n",
      "Epoch 5/100\n",
      "100/100 [==============================] - 0s 273us/step - loss: 1.0063 - acc: 0.4700\n",
      "Epoch 6/100\n",
      "100/100 [==============================] - 0s 263us/step - loss: 0.9463 - acc: 0.6100\n",
      "Epoch 7/100\n",
      "100/100 [==============================] - 0s 235us/step - loss: 0.8898 - acc: 0.7100\n",
      "Epoch 8/100\n",
      "100/100 [==============================] - 0s 252us/step - loss: 0.8428 - acc: 0.7300\n",
      "Epoch 9/100\n",
      "100/100 [==============================] - 0s 360us/step - loss: 0.7932 - acc: 0.7800\n",
      "Epoch 10/100\n",
      "100/100 [==============================] - 0s 302us/step - loss: 0.7484 - acc: 0.8600\n",
      "Epoch 11/100\n",
      "100/100 [==============================] - 0s 274us/step - loss: 0.7059 - acc: 0.8500\n",
      "Epoch 12/100\n",
      "100/100 [==============================] - 0s 251us/step - loss: 0.6663 - acc: 0.8500\n",
      "Epoch 13/100\n",
      "100/100 [==============================] - 0s 243us/step - loss: 0.6262 - acc: 0.8400\n",
      "Epoch 14/100\n",
      "100/100 [==============================] - 0s 244us/step - loss: 0.5911 - acc: 0.8500\n",
      "Epoch 15/100\n",
      "100/100 [==============================] - 0s 247us/step - loss: 0.5580 - acc: 0.8500\n",
      "Epoch 16/100\n",
      "100/100 [==============================] - 0s 228us/step - loss: 0.5264 - acc: 0.8500\n",
      "Epoch 17/100\n",
      "100/100 [==============================] - 0s 195us/step - loss: 0.4989 - acc: 0.8500\n",
      "Epoch 18/100\n",
      "100/100 [==============================] - 0s 183us/step - loss: 0.4750 - acc: 0.8500\n",
      "Epoch 19/100\n",
      "100/100 [==============================] - 0s 183us/step - loss: 0.4529 - acc: 0.8500\n",
      "Epoch 20/100\n",
      "100/100 [==============================] - 0s 172us/step - loss: 0.4344 - acc: 0.8600\n",
      "Epoch 21/100\n",
      "100/100 [==============================] - 0s 178us/step - loss: 0.4187 - acc: 0.8500\n",
      "Epoch 22/100\n",
      "100/100 [==============================] - 0s 175us/step - loss: 0.4025 - acc: 0.8500\n",
      "Epoch 23/100\n",
      "100/100 [==============================] - 0s 170us/step - loss: 0.3898 - acc: 0.8600\n",
      "Epoch 24/100\n",
      "100/100 [==============================] - 0s 169us/step - loss: 0.3788 - acc: 0.8500\n",
      "Epoch 25/100\n",
      "100/100 [==============================] - 0s 173us/step - loss: 0.3662 - acc: 0.8600\n",
      "Epoch 26/100\n",
      "100/100 [==============================] - 0s 172us/step - loss: 0.3570 - acc: 0.8600\n",
      "Epoch 27/100\n",
      "100/100 [==============================] - 0s 173us/step - loss: 0.3478 - acc: 0.8600\n",
      "Epoch 28/100\n",
      "100/100 [==============================] - 0s 180us/step - loss: 0.3398 - acc: 0.8600\n",
      "Epoch 29/100\n",
      "100/100 [==============================] - 0s 171us/step - loss: 0.3325 - acc: 0.8600\n",
      "Epoch 30/100\n",
      "100/100 [==============================] - 0s 172us/step - loss: 0.3260 - acc: 0.8500\n",
      "Epoch 31/100\n",
      "100/100 [==============================] - 0s 170us/step - loss: 0.3194 - acc: 0.8500\n",
      "Epoch 32/100\n",
      "100/100 [==============================] - 0s 173us/step - loss: 0.3144 - acc: 0.8500\n",
      "Epoch 33/100\n",
      "100/100 [==============================] - 0s 173us/step - loss: 0.3085 - acc: 0.8500\n",
      "Epoch 34/100\n",
      "100/100 [==============================] - 0s 169us/step - loss: 0.3028 - acc: 0.8500\n",
      "Epoch 35/100\n",
      "100/100 [==============================] - 0s 172us/step - loss: 0.2988 - acc: 0.8600\n",
      "Epoch 36/100\n",
      "100/100 [==============================] - 0s 172us/step - loss: 0.2934 - acc: 0.8600\n",
      "Epoch 37/100\n",
      "100/100 [==============================] - 0s 172us/step - loss: 0.2883 - acc: 0.8900\n",
      "Epoch 38/100\n",
      "100/100 [==============================] - 0s 173us/step - loss: 0.2839 - acc: 0.8900\n",
      "Epoch 39/100\n",
      "100/100 [==============================] - 0s 172us/step - loss: 0.2801 - acc: 0.8900\n",
      "Epoch 40/100\n",
      "100/100 [==============================] - 0s 172us/step - loss: 0.2744 - acc: 0.8900\n",
      "Epoch 41/100\n",
      "100/100 [==============================] - 0s 172us/step - loss: 0.2701 - acc: 0.9100\n",
      "Epoch 42/100\n",
      "100/100 [==============================] - 0s 172us/step - loss: 0.2666 - acc: 0.9000\n",
      "Epoch 43/100\n",
      "100/100 [==============================] - 0s 174us/step - loss: 0.2611 - acc: 0.9100\n",
      "Epoch 44/100\n",
      "100/100 [==============================] - 0s 175us/step - loss: 0.2572 - acc: 0.9200\n",
      "Epoch 45/100\n",
      "100/100 [==============================] - 0s 172us/step - loss: 0.2531 - acc: 0.9200\n",
      "Epoch 46/100\n",
      "100/100 [==============================] - 0s 177us/step - loss: 0.2501 - acc: 0.9200\n",
      "Epoch 47/100\n",
      "100/100 [==============================] - 0s 178us/step - loss: 0.2468 - acc: 0.9200\n",
      "Epoch 48/100\n",
      "100/100 [==============================] - 0s 176us/step - loss: 0.2440 - acc: 0.9200\n",
      "Epoch 49/100\n",
      "100/100 [==============================] - 0s 179us/step - loss: 0.2398 - acc: 0.9200\n",
      "Epoch 50/100\n",
      "100/100 [==============================] - 0s 175us/step - loss: 0.2362 - acc: 0.9200\n",
      "Epoch 51/100\n",
      "100/100 [==============================] - 0s 180us/step - loss: 0.2328 - acc: 0.9200\n",
      "Epoch 52/100\n",
      "100/100 [==============================] - 0s 175us/step - loss: 0.2300 - acc: 0.9200\n",
      "Epoch 53/100\n",
      "100/100 [==============================] - 0s 178us/step - loss: 0.2268 - acc: 0.9200\n",
      "Epoch 54/100\n",
      "100/100 [==============================] - 0s 192us/step - loss: 0.2234 - acc: 0.9200\n",
      "Epoch 55/100\n",
      "100/100 [==============================] - 0s 254us/step - loss: 0.2208 - acc: 0.9200\n",
      "Epoch 56/100\n",
      "100/100 [==============================] - 0s 285us/step - loss: 0.2180 - acc: 0.9200\n",
      "Epoch 57/100\n",
      "100/100 [==============================] - 0s 267us/step - loss: 0.2148 - acc: 0.9200\n",
      "Epoch 58/100\n",
      "100/100 [==============================] - 0s 250us/step - loss: 0.2123 - acc: 0.9200\n",
      "Epoch 59/100\n",
      "100/100 [==============================] - 0s 251us/step - loss: 0.2087 - acc: 0.9200\n",
      "Epoch 60/100\n",
      "100/100 [==============================] - 0s 238us/step - loss: 0.2063 - acc: 0.9200\n",
      "Epoch 61/100\n",
      "100/100 [==============================] - 0s 273us/step - loss: 0.2038 - acc: 0.9200\n",
      "Epoch 62/100\n",
      "100/100 [==============================] - 0s 238us/step - loss: 0.2006 - acc: 0.9200\n",
      "Epoch 63/100\n",
      "100/100 [==============================] - 0s 259us/step - loss: 0.1977 - acc: 0.9300\n",
      "Epoch 64/100\n",
      "100/100 [==============================] - 0s 270us/step - loss: 0.1951 - acc: 0.9300\n",
      "Epoch 65/100\n",
      "100/100 [==============================] - 0s 245us/step - loss: 0.1927 - acc: 0.9300\n",
      "Epoch 66/100\n",
      "100/100 [==============================] - 0s 247us/step - loss: 0.1899 - acc: 0.9300\n",
      "Epoch 67/100\n",
      "100/100 [==============================] - 0s 261us/step - loss: 0.1876 - acc: 0.9300\n",
      "Epoch 68/100\n",
      "100/100 [==============================] - 0s 253us/step - loss: 0.1852 - acc: 0.9300\n",
      "Epoch 69/100\n",
      "100/100 [==============================] - 0s 256us/step - loss: 0.1831 - acc: 0.9300\n",
      "Epoch 70/100\n",
      "100/100 [==============================] - 0s 255us/step - loss: 0.1805 - acc: 0.9300\n",
      "Epoch 71/100\n",
      "100/100 [==============================] - 0s 249us/step - loss: 0.1790 - acc: 0.9300\n",
      "Epoch 72/100\n",
      "100/100 [==============================] - 0s 257us/step - loss: 0.1759 - acc: 0.9300\n",
      "Epoch 73/100\n",
      "100/100 [==============================] - 0s 248us/step - loss: 0.1731 - acc: 0.9300\n",
      "Epoch 74/100\n",
      "100/100 [==============================] - 0s 233us/step - loss: 0.1712 - acc: 0.9300\n",
      "Epoch 75/100\n",
      "100/100 [==============================] - 0s 238us/step - loss: 0.1690 - acc: 0.9400\n",
      "Epoch 76/100\n",
      "100/100 [==============================] - 0s 230us/step - loss: 0.1668 - acc: 0.9300\n",
      "Epoch 77/100\n",
      "100/100 [==============================] - 0s 230us/step - loss: 0.1646 - acc: 0.9400\n",
      "Epoch 78/100\n",
      "100/100 [==============================] - 0s 248us/step - loss: 0.1638 - acc: 0.9400\n",
      "Epoch 79/100\n",
      "100/100 [==============================] - 0s 237us/step - loss: 0.1608 - acc: 0.9400\n",
      "Epoch 80/100\n",
      "100/100 [==============================] - 0s 255us/step - loss: 0.1592 - acc: 0.9500\n",
      "Epoch 81/100\n",
      "100/100 [==============================] - 0s 237us/step - loss: 0.1567 - acc: 0.9600\n",
      "Epoch 82/100\n",
      "100/100 [==============================] - 0s 236us/step - loss: 0.1551 - acc: 0.9500\n",
      "Epoch 83/100\n"
     ]
    },
    {
     "name": "stdout",
     "output_type": "stream",
     "text": [
      "100/100 [==============================] - 0s 247us/step - loss: 0.1530 - acc: 0.9600\n",
      "Epoch 84/100\n",
      "100/100 [==============================] - 0s 249us/step - loss: 0.1515 - acc: 0.9500\n",
      "Epoch 85/100\n",
      "100/100 [==============================] - 0s 246us/step - loss: 0.1492 - acc: 0.9500\n",
      "Epoch 86/100\n",
      "100/100 [==============================] - 0s 234us/step - loss: 0.1480 - acc: 0.9500\n",
      "Epoch 87/100\n",
      "100/100 [==============================] - 0s 245us/step - loss: 0.1459 - acc: 0.9600\n",
      "Epoch 88/100\n",
      "100/100 [==============================] - 0s 237us/step - loss: 0.1448 - acc: 0.9600\n",
      "Epoch 89/100\n",
      "100/100 [==============================] - 0s 238us/step - loss: 0.1432 - acc: 0.9600\n",
      "Epoch 90/100\n",
      "100/100 [==============================] - 0s 246us/step - loss: 0.1410 - acc: 0.9600\n",
      "Epoch 91/100\n",
      "100/100 [==============================] - 0s 239us/step - loss: 0.1399 - acc: 0.9600\n",
      "Epoch 92/100\n",
      "100/100 [==============================] - 0s 242us/step - loss: 0.1377 - acc: 0.9600\n",
      "Epoch 93/100\n",
      "100/100 [==============================] - 0s 244us/step - loss: 0.1364 - acc: 0.9600\n",
      "Epoch 94/100\n",
      "100/100 [==============================] - 0s 241us/step - loss: 0.1354 - acc: 0.9600\n",
      "Epoch 95/100\n",
      "100/100 [==============================] - 0s 238us/step - loss: 0.1338 - acc: 0.9500\n",
      "Epoch 96/100\n",
      "100/100 [==============================] - 0s 244us/step - loss: 0.1321 - acc: 0.9600\n",
      "Epoch 97/100\n",
      "100/100 [==============================] - 0s 242us/step - loss: 0.1313 - acc: 0.9600\n",
      "Epoch 98/100\n",
      "100/100 [==============================] - 0s 236us/step - loss: 0.1294 - acc: 0.9600\n",
      "Epoch 99/100\n",
      "100/100 [==============================] - 0s 244us/step - loss: 0.1284 - acc: 0.9600\n",
      "Epoch 100/100\n",
      "100/100 [==============================] - 0s 246us/step - loss: 0.1274 - acc: 0.9600\n"
     ]
    },
    {
     "data": {
      "text/plain": [
       "<keras.callbacks.History at 0x120fb7d30>"
      ]
     },
     "execution_count": 8,
     "metadata": {},
     "output_type": "execute_result"
    }
   ],
   "source": [
    "nn.fit(X_train, y_train, epochs = 100, batch_size = 5)"
   ]
  },
  {
   "cell_type": "code",
   "execution_count": null,
   "metadata": {},
   "outputs": [],
   "source": []
  },
  {
   "cell_type": "code",
   "execution_count": 9,
   "metadata": {},
   "outputs": [],
   "source": [
    "import numpy as np"
   ]
  },
  {
   "cell_type": "code",
   "execution_count": 10,
   "metadata": {},
   "outputs": [
    {
     "data": {
      "text/plain": [
       "0.98"
      ]
     },
     "execution_count": 10,
     "metadata": {},
     "output_type": "execute_result"
    }
   ],
   "source": [
    "prediction = nn.predict_classes(X_test)\n",
    "\n",
    "(prediction == np.squeeze(np.asarray(np.argmax(y_test, axis=1)))).sum() / len(prediction)"
   ]
  },
  {
   "cell_type": "code",
   "execution_count": null,
   "metadata": {},
   "outputs": [],
   "source": []
  },
  {
   "cell_type": "code",
   "execution_count": 11,
   "metadata": {},
   "outputs": [],
   "source": [
    "nn.save('models/iris_nn.hd5')"
   ]
  },
  {
   "cell_type": "code",
   "execution_count": null,
   "metadata": {},
   "outputs": [],
   "source": []
  },
  {
   "cell_type": "code",
   "execution_count": 12,
   "metadata": {},
   "outputs": [],
   "source": [
    "from keras.models import load_model"
   ]
  },
  {
   "cell_type": "code",
   "execution_count": 13,
   "metadata": {},
   "outputs": [
    {
     "name": "stdout",
     "output_type": "stream",
     "text": [
      "50/50 [==============================] - 0s 830us/step\n"
     ]
    },
    {
     "data": {
      "text/plain": [
       "[0.10922516584396362, 0.9799999904632568]"
      ]
     },
     "execution_count": 13,
     "metadata": {},
     "output_type": "execute_result"
    }
   ],
   "source": [
    "load_model('models/iris_nn.hd5').evaluate(X_test, y_test)"
   ]
  },
  {
   "cell_type": "code",
   "execution_count": null,
   "metadata": {},
   "outputs": [],
   "source": []
  },
  {
   "cell_type": "code",
   "execution_count": 14,
   "metadata": {},
   "outputs": [
    {
     "name": "stdout",
     "output_type": "stream",
     "text": [
      "accuracy: 0.96\n"
     ]
    }
   ],
   "source": [
    "from sklearn.naive_bayes import GaussianNB\n",
    "\n",
    "X = StandardScaler().fit_transform(iris.data)\n",
    "y = iris.target\n",
    "\n",
    "X_train, X_test, y_train, y_test = train_test_split(X, y, test_size=0.33, random_state=42)\n",
    "\n",
    "gaussian = GaussianNB()\n",
    "gaussian.fit(X_train, y_train)\n",
    "\n",
    "y_pred = gaussian.predict(X_test)\n",
    "\n",
    "print('accuracy:', (y_test == y_pred).sum() / len(y_test))"
   ]
  },
  {
   "cell_type": "code",
   "execution_count": null,
   "metadata": {},
   "outputs": [],
   "source": []
  },
  {
   "cell_type": "code",
   "execution_count": 15,
   "metadata": {},
   "outputs": [],
   "source": [
    "import pickle"
   ]
  },
  {
   "cell_type": "code",
   "execution_count": 16,
   "metadata": {},
   "outputs": [
    {
     "data": {
      "text/plain": [
       "0.96"
      ]
     },
     "execution_count": 16,
     "metadata": {},
     "output_type": "execute_result"
    }
   ],
   "source": [
    "filename = 'models/iris_gaussian.sav'\n",
    "pickle.dump(gaussian, open(filename, 'wb'))\n",
    "pickle.load(open(filename, 'rb')).score(X_test, y_test)"
   ]
  },
  {
   "cell_type": "code",
   "execution_count": null,
   "metadata": {},
   "outputs": [],
   "source": []
  }
 ],
 "metadata": {
  "kernelspec": {
   "display_name": "Python 3",
   "language": "python",
   "name": "python3"
  },
  "language_info": {
   "codemirror_mode": {
    "name": "ipython",
    "version": 3
   },
   "file_extension": ".py",
   "mimetype": "text/x-python",
   "name": "python",
   "nbconvert_exporter": "python",
   "pygments_lexer": "ipython3",
   "version": "3.7.3"
  }
 },
 "nbformat": 4,
 "nbformat_minor": 2
}
