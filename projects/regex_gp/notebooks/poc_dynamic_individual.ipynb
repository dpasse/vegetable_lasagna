{
 "cells": [
  {
   "cell_type": "markdown",
   "metadata": {},
   "source": [
    "## Proof of Concept\n",
    "- generating a regex expression\n",
    "- individual has a dynamic length, can grow / shrink"
   ]
  },
  {
   "cell_type": "code",
   "execution_count": 1,
   "metadata": {},
   "outputs": [],
   "source": [
    "%config IPCompleter.greedy=True"
   ]
  },
  {
   "cell_type": "code",
   "execution_count": null,
   "metadata": {},
   "outputs": [],
   "source": []
  },
  {
   "cell_type": "code",
   "execution_count": 2,
   "metadata": {},
   "outputs": [],
   "source": [
    "import warnings\n",
    "\n",
    "warnings.filterwarnings('ignore')"
   ]
  },
  {
   "cell_type": "code",
   "execution_count": null,
   "metadata": {},
   "outputs": [],
   "source": []
  },
  {
   "cell_type": "code",
   "execution_count": 3,
   "metadata": {},
   "outputs": [
    {
     "name": "stdout",
     "output_type": "stream",
     "text": [
      "re: 2.2.1\n",
      "numpy: 1.16.3\n"
     ]
    }
   ],
   "source": [
    "import re\n",
    "import numpy as np\n",
    "\n",
    "print('re:', re.__version__)\n",
    "print('numpy:', np.__version__)"
   ]
  },
  {
   "cell_type": "code",
   "execution_count": 4,
   "metadata": {},
   "outputs": [],
   "source": [
    "import sys\n",
    "\n",
    "sys.path.append('..')\n",
    "\n",
    "from package.ga import BinaryGeneFactory, AbstractFitness, SimpleHillClimber\n",
    "from package.transformers import IntegerToBinaryString, StringToMapping, KeyArrayToRegex"
   ]
  },
  {
   "cell_type": "code",
   "execution_count": null,
   "metadata": {},
   "outputs": [],
   "source": []
  },
  {
   "cell_type": "code",
   "execution_count": 5,
   "metadata": {},
   "outputs": [
    {
     "data": {
      "text/html": [
       "<h4>1. text, expected text</h4>\n"
      ],
      "text/plain": [
       "<IPython.core.display.HTML object>"
      ]
     },
     "metadata": {},
     "output_type": "display_data"
    }
   ],
   "source": [
    "%%html\n",
    "<h4>1. text, expected text</h4>"
   ]
  },
  {
   "cell_type": "code",
   "execution_count": null,
   "metadata": {},
   "outputs": [],
   "source": []
  },
  {
   "cell_type": "code",
   "execution_count": 6,
   "metadata": {},
   "outputs": [
    {
     "name": "stdout",
     "output_type": "stream",
     "text": [
      "a bird in hand is worth two in the bush?\n",
      "these watches cost: 1500!\n",
      "the ball is in court 1500.\n"
     ]
    }
   ],
   "source": [
    "## 1. text -> '{expected string}' within,\n",
    "expected_text = 'cost: 1500'\n",
    "expected_text_length = len(expected_text)\n",
    "text = 'a bird in hand is worth two in the bush?\\n' \\\n",
    "     + 'these watches ' + expected_text + '!\\n' \\\n",
    "     + 'the ball is in court 1500.' \\\n",
    "\n",
    "print(text)"
   ]
  },
  {
   "cell_type": "code",
   "execution_count": null,
   "metadata": {},
   "outputs": [],
   "source": []
  },
  {
   "cell_type": "code",
   "execution_count": 7,
   "metadata": {},
   "outputs": [
    {
     "data": {
      "text/html": [
       "<h4>2. setup</h4>\n"
      ],
      "text/plain": [
       "<IPython.core.display.HTML object>"
      ]
     },
     "metadata": {},
     "output_type": "display_data"
    }
   ],
   "source": [
    "%%html\n",
    "<h4>2. setup</h4>"
   ]
  },
  {
   "cell_type": "code",
   "execution_count": null,
   "metadata": {},
   "outputs": [],
   "source": []
  },
  {
   "cell_type": "code",
   "execution_count": 8,
   "metadata": {},
   "outputs": [],
   "source": [
    "consts = 'abcdefghijklmnopqrstuvwxyz'\n",
    "regexes = [\n",
    "    r'\\s',\n",
    "    r'\\d',\n",
    "    r'[a-z]',\n",
    "    r'[:]',\n",
    "    r'[!?.]',\n",
    "    r'[0-9]'\n",
    "]\n",
    "\n",
    "complete_set = [ c for c in consts ] + regexes\n",
    "\n",
    "binary_start = 0\n",
    "binary_end = len(complete_set) -1 # hard end, values < binary_end\n",
    " \n",
    "integer_to_binary_transformer = IntegerToBinaryString(5)\n",
    "gene_factory = BinaryGeneFactory(binary_start, binary_end, 5)\n",
    "\n",
    "binary_to_regex = {}\n",
    "for i in range(binary_end):\n",
    "    key = integer_to_binary_transformer.transform(i)\n",
    "    binary_to_regex[key] = complete_set[i]\n",
    "\n",
    "string_mapper = StringToMapping(binary_to_regex)\n",
    "to_regex = KeyArrayToRegex(string_mapper)"
   ]
  },
  {
   "cell_type": "code",
   "execution_count": null,
   "metadata": {},
   "outputs": [],
   "source": []
  },
  {
   "cell_type": "code",
   "execution_count": 9,
   "metadata": {},
   "outputs": [],
   "source": [
    "class Fitness(AbstractFitness):\n",
    "    to_regex = None\n",
    "    expected_match = ''\n",
    "    \n",
    "    def __init__(self, to_regex, expected_match, text):\n",
    "        self.to_regex = to_regex\n",
    "        self.expected_match = expected_match\n",
    "        self.text = text\n",
    "        \n",
    "        super()\n",
    "\n",
    "    def evaluate(self, individual, display_logging = False):\n",
    "        fitness = 0.0\n",
    "        \n",
    "        regexes = self.to_regex.transform_to_array(individual)\n",
    "        \n",
    "        regexes_length = len(regexes)\n",
    "        expected_text_length = len(self.expected_match)\n",
    "        \n",
    "        ## 1. regex is the same length\n",
    "        if regexes_length == expected_text_length:\n",
    "            fitness += 1.0\n",
    "        elif expected_text_length > regexes_length:\n",
    "            fitness += (1 - ((expected_text_length - regexes_length) / expected_text_length))\n",
    "        else:\n",
    "            fitness += (1 - ((regexes_length - expected_text_length) / regexes_length))\n",
    "            \n",
    "        if display_logging:\n",
    "            print('rule 1:', fitness)\n",
    "            \n",
    "        compare_individual_elements = np.array([\n",
    "            re.match(ai, self.expected_match[i]) != None\n",
    "            for i, ai\n",
    "            in enumerate(regexes)\n",
    "            if i < expected_text_length\n",
    "        ]).astype(int).sum()\n",
    "        \n",
    "        fitness += (compare_individual_elements / expected_text_length)\n",
    "\n",
    "        if display_logging:\n",
    "            print('rule 2:', fitness)\n",
    "\n",
    "        regex = self.to_regex.transform(individual)\n",
    "        \n",
    "        pattern = re.compile(regex)\n",
    "        matches = pattern.findall(self.text)\n",
    "        if len(matches) > 0:\n",
    "            against_first_match = matches[0]\n",
    "            \n",
    "            comparision = np.array([\n",
    "                self.expected_match[i] == against_first_match[i]\n",
    "                for i \n",
    "                in range(len(against_first_match)) if i < expected_text_length\n",
    "            ]).astype(int).sum()\n",
    "            \n",
    "            fitness += (comparision / expected_text_length)\n",
    "\n",
    "            if display_logging:\n",
    "                print('rule 2:', fitness)\n",
    "\n",
    "        return fitness / 3\n",
    "    \n",
    "fitness_evaluator = Fitness(to_regex, expected_text, text)"
   ]
  },
  {
   "cell_type": "code",
   "execution_count": null,
   "metadata": {},
   "outputs": [],
   "source": []
  },
  {
   "cell_type": "code",
   "execution_count": 10,
   "metadata": {},
   "outputs": [],
   "source": [
    "def gene_mutator(gene, display_logging = False):\n",
    "    precentage = np.random.rand()\n",
    "    if precentage < .08:\n",
    "        gene = gene_factory.create()\n",
    "        \n",
    "    return gene\n",
    "\n",
    "def individual_height_mutator(individual, display_logging = False):\n",
    "    precentage = np.random.rand()\n",
    "    if precentage < .10:\n",
    "        gene = gene_factory.create()\n",
    "        individual += [gene]\n",
    "    \n",
    "    length = len(individual)\n",
    "    if precentage > .90 and length > 0:\n",
    "        individual = individual[:len(individual)-1]\n",
    "        \n",
    "    return individual\n",
    "\n",
    "hill_climber = SimpleHillClimber(fitness_evaluator, [ gene_mutator ], [ individual_height_mutator ])"
   ]
  },
  {
   "cell_type": "code",
   "execution_count": null,
   "metadata": {},
   "outputs": [],
   "source": []
  },
  {
   "cell_type": "code",
   "execution_count": 11,
   "metadata": {},
   "outputs": [
    {
     "data": {
      "text/html": [
       "<h4>3. create individual</h4>\n"
      ],
      "text/plain": [
       "<IPython.core.display.HTML object>"
      ]
     },
     "metadata": {},
     "output_type": "display_data"
    }
   ],
   "source": [
    "%%html\n",
    "<h4>3. create individual</h4>"
   ]
  },
  {
   "cell_type": "code",
   "execution_count": null,
   "metadata": {},
   "outputs": [],
   "source": []
  },
  {
   "cell_type": "code",
   "execution_count": 12,
   "metadata": {},
   "outputs": [
    {
     "name": "stdout",
     "output_type": "stream",
     "text": [
      "binary: 01011|00011|10011|01010\n",
      "regex:  /ldtk/gimu\n"
     ]
    }
   ],
   "source": [
    "individual = gene_factory.create_many(4)\n",
    "\n",
    "print('binary:', '|'.join(individual))\n",
    "print('regex: ', '/'+ ''.join(to_regex.transform_and_compress(individual)) + '/gimu')"
   ]
  },
  {
   "cell_type": "code",
   "execution_count": null,
   "metadata": {},
   "outputs": [],
   "source": []
  },
  {
   "cell_type": "code",
   "execution_count": 13,
   "metadata": {},
   "outputs": [
    {
     "data": {
      "text/html": [
       "<h4>4. run</h4>\n"
      ],
      "text/plain": [
       "<IPython.core.display.HTML object>"
      ]
     },
     "metadata": {},
     "output_type": "display_data"
    }
   ],
   "source": [
    "%%html\n",
    "<h4>4. run</h4>"
   ]
  },
  {
   "cell_type": "code",
   "execution_count": null,
   "metadata": {},
   "outputs": [],
   "source": []
  },
  {
   "cell_type": "code",
   "execution_count": 14,
   "metadata": {},
   "outputs": [
    {
     "name": "stdout",
     "output_type": "stream",
     "text": [
      "compressed: /[a-z]+t[:]\\s\\d+/gimu ~ \"cost: 1500\" ~ 1.0 ~ 1045\n",
      "original: /ldtk/gimu\n"
     ]
    }
   ],
   "source": [
    "number_of_iterations = 50000\n",
    "result = hill_climber.run(individual, number_of_iterations)\n",
    "\n",
    "final_individual = result[0]\n",
    "final_fitness = result[1]\n",
    "final_iteration = result[2]\n",
    "\n",
    "print(\n",
    "    'compressed:',\n",
    "    '/' + to_regex.transform_and_compress(final_individual) + '/gimu',\n",
    "    '~',\n",
    "    '\"' + expected_text + '\"',\n",
    "    '~',\n",
    "    final_fitness,\n",
    "    '~',\n",
    "    final_iteration\n",
    ")\n",
    "\n",
    "print(\n",
    "    'original:',\n",
    "    '/' + to_regex.transform_and_compress(individual) + '/gimu',\n",
    ")"
   ]
  },
  {
   "cell_type": "code",
   "execution_count": null,
   "metadata": {},
   "outputs": [],
   "source": []
  }
 ],
 "metadata": {
  "kernelspec": {
   "display_name": "Python 3",
   "language": "python",
   "name": "python3"
  },
  "language_info": {
   "codemirror_mode": {
    "name": "ipython",
    "version": 3
   },
   "file_extension": ".py",
   "mimetype": "text/x-python",
   "name": "python",
   "nbconvert_exporter": "python",
   "pygments_lexer": "ipython3",
   "version": "3.7.3"
  }
 },
 "nbformat": 4,
 "nbformat_minor": 4
}
