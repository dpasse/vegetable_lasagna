{
 "cells": [
  {
   "cell_type": "markdown",
   "metadata": {},
   "source": [
    "## Proof of Concept"
   ]
  },
  {
   "cell_type": "code",
   "execution_count": null,
   "metadata": {},
   "outputs": [],
   "source": []
  },
  {
   "cell_type": "code",
   "execution_count": 1,
   "metadata": {},
   "outputs": [],
   "source": [
    "%config IPCompleter.greedy=True"
   ]
  },
  {
   "cell_type": "code",
   "execution_count": null,
   "metadata": {},
   "outputs": [],
   "source": []
  },
  {
   "cell_type": "code",
   "execution_count": 2,
   "metadata": {},
   "outputs": [],
   "source": [
    "import warnings\n",
    "\n",
    "warnings.filterwarnings('ignore')\n",
    "\n",
    "import sys\n",
    "\n",
    "sys.path.append('..')"
   ]
  },
  {
   "cell_type": "code",
   "execution_count": null,
   "metadata": {},
   "outputs": [],
   "source": []
  },
  {
   "cell_type": "code",
   "execution_count": 3,
   "metadata": {},
   "outputs": [],
   "source": [
    "import re\n",
    "import numpy as np"
   ]
  },
  {
   "cell_type": "code",
   "execution_count": null,
   "metadata": {},
   "outputs": [],
   "source": []
  },
  {
   "cell_type": "code",
   "execution_count": 4,
   "metadata": {},
   "outputs": [],
   "source": [
    "document = \"\"\"\n",
    "\n",
    "  mother:  Tree either call task until red push toward produce property if green eight set.\n",
    "  service:  Everybody market argue center crime approach actually they would artist system and.\n",
    "  everyone:  Because do guy xyz = 50 claim sit reveal walk.\n",
    "  grow:  Security improve situation we later pull save thank not edge in.\n",
    "  state:  Probably money long six religious manage hear pass best work.\n",
    "  treatment:  Situation of water though it war.\n",
    "  report:  Final factor last care would I eight four.\n",
    "  American:  Magazine will mm = 51 third itself direction well party local concern site law word response.\n",
    "  instead:  After front speech hope turn decade both worry.\n",
    "  type:  Stop small job gas way memory south environment hundred lawyer staff bring decision option third full.\n",
    "\n",
    "     aabc: 0     aefg: 10     ahij: 20    \n",
    "     babc: 1     befg: 11     bhij: 21    \n",
    "     cabc: 2     cefg: 12     chij: 22    \n",
    "     dabc: 3     defg: 13     dhij: 23    \n",
    "\n",
    "     eabc: 4     eefg: 14     ehij: 24    \n",
    "     fabc: 5     fefg: 15     fhij: 25    \n",
    "     gabc: 6     gefg: 16     ghij: 26    \n",
    "     habc: 7     hefg: 17     hhij: 27    \n",
    "\n",
    "\"\"\""
   ]
  },
  {
   "cell_type": "code",
   "execution_count": null,
   "metadata": {},
   "outputs": [],
   "source": []
  },
  {
   "cell_type": "code",
   "execution_count": 5,
   "metadata": {},
   "outputs": [
    {
     "data": {
      "text/html": [
       "\n",
       "<h5>1. split document</h5>\n"
      ],
      "text/plain": [
       "<IPython.core.display.HTML object>"
      ]
     },
     "metadata": {},
     "output_type": "display_data"
    }
   ],
   "source": [
    "%%html\n",
    "\n",
    "<h5>1. split document</h5>"
   ]
  },
  {
   "cell_type": "code",
   "execution_count": 6,
   "metadata": {},
   "outputs": [],
   "source": [
    "from package.transformers import DocumentToMatrix\n",
    "from package.estimators import CorrelationEstimator\n",
    "from package.splitters import SingleThresholdSplitter"
   ]
  },
  {
   "cell_type": "code",
   "execution_count": null,
   "metadata": {},
   "outputs": [],
   "source": []
  },
  {
   "cell_type": "code",
   "execution_count": 7,
   "metadata": {},
   "outputs": [],
   "source": [
    "document_transformer = DocumentToMatrix.BasicDocumentToMatrix(document)\n",
    "document_as_matrix = document_transformer.transform()"
   ]
  },
  {
   "cell_type": "code",
   "execution_count": 8,
   "metadata": {},
   "outputs": [],
   "source": [
    "estimator = CorrelationEstimator(document_transformer)\n",
    "y = np.array(estimator.evaluate()).flatten().tolist()"
   ]
  },
  {
   "cell_type": "code",
   "execution_count": 9,
   "metadata": {},
   "outputs": [
    {
     "name": "stdout",
     "output_type": "stream",
     "text": [
      "# of sections: 2\n"
     ]
    }
   ],
   "source": [
    "splitter = SingleThresholdSplitter(y, .35)\n",
    "sections = splitter.split_document(document_transformer.lines_in_document)\n",
    "\n",
    "print('# of sections:', len(sections))"
   ]
  },
  {
   "cell_type": "code",
   "execution_count": null,
   "metadata": {},
   "outputs": [],
   "source": []
  },
  {
   "cell_type": "code",
   "execution_count": 10,
   "metadata": {},
   "outputs": [
    {
     "data": {
      "text/html": [
       "\n",
       "<h5>2. build regex expressions per section</h5>\n"
      ],
      "text/plain": [
       "<IPython.core.display.HTML object>"
      ]
     },
     "metadata": {},
     "output_type": "display_data"
    }
   ],
   "source": [
    "%%html\n",
    "\n",
    "<h5>2. build regex expressions per section</h5>"
   ]
  },
  {
   "cell_type": "code",
   "execution_count": 11,
   "metadata": {},
   "outputs": [],
   "source": [
    "from package.ga import BinaryGeneFactory, AbstractFitness, SimpleHillClimber\n",
    "from package.transformers import IntegerToBinaryString, StringToMapping, KeyArrayToRegex\n",
    "from package.ga.setups import DynamicWithStaticEnding"
   ]
  },
  {
   "cell_type": "code",
   "execution_count": 12,
   "metadata": {},
   "outputs": [],
   "source": [
    "static_ending = r'\\W([\\d.]*\\d[.\\d]*)\\W'\n",
    "consts = 'abcdefghijklmnopqrstuvwxyz'\n",
    "regexes = [\n",
    "    r'\\s',\n",
    "    r'\\d',\n",
    "    r'[a-z]',\n",
    "    r'[:=]',\n",
    "    r'[!?.]',\n",
    "    r'\\W'\n",
    "]\n",
    "\n",
    "complete_set = [ c for c in consts ] + regexes\n",
    "\n",
    "binary_start = 0\n",
    "binary_end = len(complete_set) -1 # hard end, values < binary_end\n",
    " \n",
    "integer_to_binary_transformer = IntegerToBinaryString(5)\n",
    "gene_factory = BinaryGeneFactory(binary_start, binary_end, 5)\n",
    "\n",
    "binary_to_regex = {}\n",
    "for i in range(binary_end):\n",
    "    key = integer_to_binary_transformer.transform(i)\n",
    "    binary_to_regex[key] = complete_set[i]\n",
    "\n",
    "string_mapper = StringToMapping(binary_to_regex)\n",
    "to_regex = KeyArrayToRegex(string_mapper)"
   ]
  },
  {
   "cell_type": "code",
   "execution_count": 13,
   "metadata": {},
   "outputs": [],
   "source": [
    "mutator = DynamicWithStaticEnding.Mutator(gene_factory)"
   ]
  },
  {
   "cell_type": "code",
   "execution_count": null,
   "metadata": {},
   "outputs": [],
   "source": []
  },
  {
   "cell_type": "code",
   "execution_count": 14,
   "metadata": {},
   "outputs": [
    {
     "name": "stdout",
     "output_type": "stream",
     "text": [
      "compressed: /guy\\s[a-z]{3}\\s[:=]+\\W([\\d.]*\\d[.\\d]*)\\W/gimu ~ 1.0 ~ 1404 == 50.0\n",
      "compressed: /n[a-z]\\s[a-z]{4}\\s[a-z]m\\s[:=]+\\W([\\d.]*\\d[.\\d]*)\\W/gimu ~ 1.0 ~ 2287 == 51.0\n",
      "\n",
      "- section 1 complete -\n",
      "\n",
      "compressed: /a[a-z]{2}c[:=]+\\W([\\d.]*\\d[.\\d]*)\\W/gimu ~ 1.0 ~ 3502 == 0.0\n",
      "compressed: /\\sa[a-z]f[a-z][:=]+\\W([\\d.]*\\d[.\\d]*)\\W/gimu ~ 1.0 ~ 1825 == 10.0\n",
      "compressed: /\\d{2}\\s{5}a[a-z]ij[:=]+\\W([\\d.]*\\d[.\\d]*)\\W/gimu ~ 1.0 ~ 4646 == 20.0\n",
      "compressed: /\\s{2}ba[a-z]c[:=]+\\W([\\d.]*\\d[.\\d]*)\\W/gimu ~ 1.0 ~ 1565 == 1.0\n",
      "compressed: /b[a-z]f[a-z][:=]+\\W([\\d.]*\\d[.\\d]*)\\W/gimu ~ 1.0 ~ 1959 == 11.0\n",
      "compressed: /\\s{5}bh[a-z]j[:=]+\\W([\\d.]*\\d[.\\d]*)\\W/gimu ~ 1.0 ~ 6001 == 21.0\n",
      "compressed: /\\s{2}ca[a-z]{2}[:=]+\\W([\\d.]*\\d[.\\d]*)\\W/gimu ~ 1.0 ~ 2786 == 2.0\n",
      "compressed: /ce[a-z]g[:=]+\\W([\\d.]*\\d[.\\d]*)\\W/gimu ~ 1.0 ~ 988 == 12.0\n",
      "compressed: /c[a-z]ij[:=]+\\W([\\d.]*\\d[.\\d]*)\\W/gimu ~ 1.0 ~ 1434 == 22.0\n",
      "compressed: /dabc[:=]+\\W([\\d.]*\\d[.\\d]*)\\W/gimu ~ 1.0 ~ 572 == 3.0\n",
      "compressed: /\\s{5}de[a-z]{2}[:=]+\\W([\\d.]*\\d[.\\d]*)\\W/gimu ~ 1.0 ~ 6501 == 13.0\n",
      "compressed: /\\s{2}dh[a-z]j[:=]+\\W([\\d.]*\\d[.\\d]*)\\W/gimu ~ 1.0 ~ 905 == 23.0\n",
      "compressed: /\\se[a-z]b[a-z][:=]+\\W([\\d.]*\\d[.\\d]*)\\W/gimu ~ 1.0 ~ 1771 == 4.0\n",
      "compressed: /e{2}f[a-z][:=]+\\W([\\d.]*\\d[.\\d]*)\\W/gimu ~ 1.0 ~ 2826 == 14.0\n",
      "compressed: /\\seh[a-z]j[:=]+\\W([\\d.]*\\d[.\\d]*)\\W/gimu ~ 1.0 ~ 740 == 24.0\n",
      "compressed: /f[a-z]b[a-z][:=]+\\W([\\d.]*\\d[.\\d]*)\\W/gimu ~ 1.0 ~ 599 == 5.0\n",
      "compressed: /fe[a-z]g[:=]+\\W([\\d.]*\\d[.\\d]*)\\W/gimu ~ 1.0 ~ 717 == 15.0\n",
      "compressed: /\\s{4}fhij[:=]+\\W([\\d.]*\\d[.\\d]*)\\W/gimu ~ 1.0 ~ 3569 == 25.0\n",
      "compressed: /g[a-z]{2}c[:=]+\\W([\\d.]*\\d[.\\d]*)\\W/gimu ~ 1.0 ~ 1997 == 6.0\n",
      "compressed: /\\s{2}ge[a-z]{2}[:=]+\\W([\\d.]*\\d[.\\d]*)\\W/gimu ~ 1.0 ~ 2037 == 16.0\n",
      "compressed: /g[a-z]i[a-z][:=]+\\W([\\d.]*\\d[.\\d]*)\\W/gimu ~ 1.0 ~ 4111 == 26.0\n",
      "compressed: /h[a-z]b[a-z][:=]+\\W([\\d.]*\\d[.\\d]*)\\W/gimu ~ 1.0 ~ 3124 == 7.0\n",
      "compressed: /hef[a-z][:=]+\\W([\\d.]*\\d[.\\d]*)\\W/gimu ~ 1.0 ~ 3240 == 17.0\n",
      "compressed: /h[a-z]i[a-z][:=]+\\W([\\d.]*\\d[.\\d]*)\\W/gimu ~ 1.0 ~ 799 == 27.0\n",
      "\n",
      "- section 2 complete -\n",
      "\n"
     ]
    }
   ],
   "source": [
    "output = []\n",
    "number_of_iterations = 10000\n",
    "for section_index, text in enumerate(sections):\n",
    "    regex_section_expressions = []\n",
    "    expected_numbers = list(map(lambda n: float(n), re.compile(static_ending).findall(text)))\n",
    "    for expected_number in expected_numbers:\n",
    "        individual = gene_factory.create_many(10)\n",
    "\n",
    "        fitness_evaluator = DynamicWithStaticEnding.Fitness(to_regex, static_ending, expected_number, text)\n",
    "        hill_climber = SimpleHillClimber(fitness_evaluator, [ mutator.gene_mutator ], [ mutator.individual_height_mutator ])\n",
    "\n",
    "        result = hill_climber.run(individual, number_of_iterations, False)\n",
    "        final_individual = result[0]\n",
    "        final_fitness = result[1]\n",
    "        final_iteration = result[2]\n",
    "\n",
    "        print(\n",
    "            'compressed:',\n",
    "            '/' + to_regex.transform_and_compress(final_individual) + static_ending + '/gimu',\n",
    "            '~',\n",
    "            final_fitness,\n",
    "            '~',\n",
    "            final_iteration,\n",
    "            '==',\n",
    "            expected_number,\n",
    "        )\n",
    "\n",
    "        regex_section_expressions.append(\n",
    "            to_regex.transform_and_compress(final_individual) + static_ending\n",
    "        )\n",
    "    \n",
    "    print()\n",
    "    print('- section', section_index+1, 'complete -')\n",
    "    print()\n",
    "    \n",
    "    output.append(regex_section_expressions)"
   ]
  },
  {
   "cell_type": "code",
   "execution_count": null,
   "metadata": {},
   "outputs": [],
   "source": []
  },
  {
   "cell_type": "code",
   "execution_count": 15,
   "metadata": {},
   "outputs": [
    {
     "name": "stdout",
     "output_type": "stream",
     "text": [
      "guy\\s[a-z]{3}\\s[:=]+\\W([\\d.]*\\d[.\\d]*)\\W  -  ['50']\n",
      "n[a-z]\\s[a-z]{4}\\s[a-z]m\\s[:=]+\\W([\\d.]*\\d[.\\d]*)\\W  -  ['51']\n",
      "\n",
      "- section complete -\n",
      "\n",
      "a[a-z]{2}c[:=]+\\W([\\d.]*\\d[.\\d]*)\\W  -  ['0']\n",
      "\\sa[a-z]f[a-z][:=]+\\W([\\d.]*\\d[.\\d]*)\\W  -  ['10']\n",
      "\\d{2}\\s{5}a[a-z]ij[:=]+\\W([\\d.]*\\d[.\\d]*)\\W  -  ['20']\n",
      "\\s{2}ba[a-z]c[:=]+\\W([\\d.]*\\d[.\\d]*)\\W  -  ['1']\n",
      "b[a-z]f[a-z][:=]+\\W([\\d.]*\\d[.\\d]*)\\W  -  ['11']\n",
      "\\s{5}bh[a-z]j[:=]+\\W([\\d.]*\\d[.\\d]*)\\W  -  ['21']\n",
      "\\s{2}ca[a-z]{2}[:=]+\\W([\\d.]*\\d[.\\d]*)\\W  -  ['2']\n",
      "ce[a-z]g[:=]+\\W([\\d.]*\\d[.\\d]*)\\W  -  ['12']\n",
      "c[a-z]ij[:=]+\\W([\\d.]*\\d[.\\d]*)\\W  -  ['22']\n",
      "dabc[:=]+\\W([\\d.]*\\d[.\\d]*)\\W  -  ['3']\n",
      "\\s{5}de[a-z]{2}[:=]+\\W([\\d.]*\\d[.\\d]*)\\W  -  ['13']\n",
      "\\s{2}dh[a-z]j[:=]+\\W([\\d.]*\\d[.\\d]*)\\W  -  ['23']\n",
      "\\se[a-z]b[a-z][:=]+\\W([\\d.]*\\d[.\\d]*)\\W  -  ['4']\n",
      "e{2}f[a-z][:=]+\\W([\\d.]*\\d[.\\d]*)\\W  -  ['14']\n",
      "\\seh[a-z]j[:=]+\\W([\\d.]*\\d[.\\d]*)\\W  -  ['24']\n",
      "f[a-z]b[a-z][:=]+\\W([\\d.]*\\d[.\\d]*)\\W  -  ['5']\n",
      "fe[a-z]g[:=]+\\W([\\d.]*\\d[.\\d]*)\\W  -  ['15']\n",
      "\\s{4}fhij[:=]+\\W([\\d.]*\\d[.\\d]*)\\W  -  ['25']\n",
      "g[a-z]{2}c[:=]+\\W([\\d.]*\\d[.\\d]*)\\W  -  ['6']\n",
      "\\s{2}ge[a-z]{2}[:=]+\\W([\\d.]*\\d[.\\d]*)\\W  -  ['16']\n",
      "g[a-z]i[a-z][:=]+\\W([\\d.]*\\d[.\\d]*)\\W  -  ['26']\n",
      "h[a-z]b[a-z][:=]+\\W([\\d.]*\\d[.\\d]*)\\W  -  ['7']\n",
      "hef[a-z][:=]+\\W([\\d.]*\\d[.\\d]*)\\W  -  ['17']\n",
      "h[a-z]i[a-z][:=]+\\W([\\d.]*\\d[.\\d]*)\\W  -  ['27']\n",
      "\n",
      "- section complete -\n",
      "\n"
     ]
    }
   ],
   "source": [
    "for regexes in output:\n",
    "    for regex in regexes:\n",
    "        match = re.compile(regex).findall(document)\n",
    "        print(regex, ' - ', match)\n",
    "    \n",
    "    print()\n",
    "    print('- section complete -')\n",
    "    print()"
   ]
  },
  {
   "cell_type": "code",
   "execution_count": null,
   "metadata": {},
   "outputs": [],
   "source": []
  }
 ],
 "metadata": {
  "kernelspec": {
   "display_name": "Python 3",
   "language": "python",
   "name": "python3"
  },
  "language_info": {
   "codemirror_mode": {
    "name": "ipython",
    "version": 3
   },
   "file_extension": ".py",
   "mimetype": "text/x-python",
   "name": "python",
   "nbconvert_exporter": "python",
   "pygments_lexer": "ipython3",
   "version": "3.7.3"
  }
 },
 "nbformat": 4,
 "nbformat_minor": 4
}
