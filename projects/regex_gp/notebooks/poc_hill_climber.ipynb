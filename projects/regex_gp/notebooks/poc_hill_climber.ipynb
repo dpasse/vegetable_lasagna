{
 "cells": [
  {
   "cell_type": "markdown",
   "metadata": {},
   "source": [
    " "
   ]
  },
  {
   "cell_type": "markdown",
   "metadata": {},
   "source": [
    "## Proof of Concept\n",
    "- JUST generating a regex expression to match a particular string"
   ]
  },
  {
   "cell_type": "code",
   "execution_count": 1,
   "metadata": {},
   "outputs": [],
   "source": [
    "%config IPCompleter.greedy=True"
   ]
  },
  {
   "cell_type": "code",
   "execution_count": 2,
   "metadata": {},
   "outputs": [],
   "source": [
    "import warnings\n",
    "\n",
    "warnings.filterwarnings('ignore')"
   ]
  },
  {
   "cell_type": "code",
   "execution_count": null,
   "metadata": {},
   "outputs": [],
   "source": []
  },
  {
   "cell_type": "code",
   "execution_count": 3,
   "metadata": {},
   "outputs": [
    {
     "name": "stdout",
     "output_type": "stream",
     "text": [
      "re: 2.2.1\n",
      "numpy: 1.16.3\n"
     ]
    }
   ],
   "source": [
    "import re\n",
    "import numpy as np\n",
    "\n",
    "print('re:', re.__version__)\n",
    "print('numpy:', np.__version__)"
   ]
  },
  {
   "cell_type": "code",
   "execution_count": null,
   "metadata": {},
   "outputs": [],
   "source": []
  },
  {
   "cell_type": "code",
   "execution_count": 4,
   "metadata": {},
   "outputs": [],
   "source": [
    "import sys\n",
    "\n",
    "sys.path.append('..')\n",
    "\n",
    "from package.ga import BinaryGeneFactory, AbstractFitness, SimpleHillClimber\n",
    "from package.transformers import IntegerToBinaryString, StringToMapping, KeyArrayToRegex"
   ]
  },
  {
   "cell_type": "code",
   "execution_count": null,
   "metadata": {},
   "outputs": [],
   "source": []
  },
  {
   "cell_type": "code",
   "execution_count": 5,
   "metadata": {},
   "outputs": [],
   "source": [
    "expected_match = 'backstreets back   11:05:20   alright'\n",
    "length_of_expected_match = len(expected_match)"
   ]
  },
  {
   "cell_type": "code",
   "execution_count": null,
   "metadata": {},
   "outputs": [],
   "source": []
  },
  {
   "cell_type": "code",
   "execution_count": 6,
   "metadata": {},
   "outputs": [],
   "source": [
    "binary_start = 0\n",
    "binary_end = 3 + 1\n",
    "\n",
    "gene_factory = BinaryGeneFactory(binary_start, binary_end, 2)\n",
    "string_mapper = StringToMapping({\n",
    "    '00': r'\\s',\n",
    "    '01': r'\\d',\n",
    "    '10': r'[a-z]',\n",
    "    '11': r'[:]'\n",
    "})\n",
    "to_regex = KeyArrayToRegex(string_mapper)"
   ]
  },
  {
   "cell_type": "code",
   "execution_count": null,
   "metadata": {},
   "outputs": [],
   "source": []
  },
  {
   "cell_type": "code",
   "execution_count": 7,
   "metadata": {},
   "outputs": [],
   "source": [
    "class Fitness(AbstractFitness):\n",
    "    to_regex = None\n",
    "    expected_match = ''\n",
    "    \n",
    "    def __init__(self, to_regex, expected_match):\n",
    "        self.to_regex = to_regex\n",
    "        self.expected_match = expected_match\n",
    "        super()\n",
    "\n",
    "    def evaluate(self, individual, display_logging = False):\n",
    "        transformed = self.to_regex.transform_to_array(individual)\n",
    "        \n",
    "        length_of_expected_match = len(self.expected_match)\n",
    "        return np.array(\n",
    "            [\n",
    "                re.match(ai, self.expected_match[i]) != None \n",
    "                for i, ai \n",
    "                in enumerate(transformed)\n",
    "            ]\n",
    "        ).astype(int).sum() / length_of_expected_match\n",
    "    \n",
    "fitness_evaluator = Fitness(to_regex, expected_match)"
   ]
  },
  {
   "cell_type": "code",
   "execution_count": null,
   "metadata": {},
   "outputs": [],
   "source": []
  },
  {
   "cell_type": "code",
   "execution_count": 8,
   "metadata": {},
   "outputs": [
    {
     "name": "stdout",
     "output_type": "stream",
     "text": [
      "binary: 10|10|00|10|01|11|00|01|01|11|01|10|10|11|11|11|01|10|11|10|00|01|10|00|10|00|00|01|00|10|01|11|00|00|11|00|00\n",
      "regex:  [a-z]+\\s[a-z]\\d[:]\\s\\d+[:]\\d[a-z]+[:]+\\d[a-z][:][a-z]\\s\\d[a-z]\\s[a-z]\\s+\\d\\s[a-z]\\d[:]\\s+[:]\\s+\n"
     ]
    }
   ],
   "source": [
    "individual = gene_factory.create_many(length_of_expected_match)\n",
    "\n",
    "print('binary:', '|'.join(individual))\n",
    "print('regex: ', ''.join(to_regex.transform_and_compress(individual)))"
   ]
  },
  {
   "cell_type": "code",
   "execution_count": null,
   "metadata": {},
   "outputs": [],
   "source": []
  },
  {
   "cell_type": "code",
   "execution_count": 9,
   "metadata": {},
   "outputs": [],
   "source": [
    "def gene_mutator(gene, display_logging):\n",
    "    precentage = np.random.rand()\n",
    "    if precentage < .08:\n",
    "        gene = gene_factory.create()\n",
    "        \n",
    "    return gene\n",
    "\n",
    "hill_climber = SimpleHillClimber(fitness_evaluator, [ gene_mutator ])"
   ]
  },
  {
   "cell_type": "code",
   "execution_count": null,
   "metadata": {},
   "outputs": [],
   "source": []
  },
  {
   "cell_type": "code",
   "execution_count": 10,
   "metadata": {},
   "outputs": [
    {
     "name": "stdout",
     "output_type": "stream",
     "text": [
      "compressed: /[a-z]+\\s[a-z]+\\s+\\d+[:]\\d+[:]\\d+\\s+[a-z]+/gimu ~ \"backstreets back   11:05:20   alright\" ~ 1.0 ~ 790\n"
     ]
    }
   ],
   "source": [
    "number_of_iterations = 5000\n",
    "result = hill_climber.run(individual, number_of_iterations)\n",
    "\n",
    "final_individual = result[0]\n",
    "final_fitness = result[1]\n",
    "final_iteration = result[2]\n",
    "\n",
    "print(\n",
    "    'compressed:',\n",
    "    '/' + to_regex.transform_and_compress(final_individual) + '/gimu',\n",
    "    '~',\n",
    "    '\"' + expected_match + '\"',\n",
    "    '~',\n",
    "    final_fitness,\n",
    "    '~',\n",
    "    final_iteration\n",
    ")"
   ]
  },
  {
   "cell_type": "code",
   "execution_count": null,
   "metadata": {},
   "outputs": [],
   "source": []
  }
 ],
 "metadata": {
  "kernelspec": {
   "display_name": "Python 3",
   "language": "python",
   "name": "python3"
  },
  "language_info": {
   "codemirror_mode": {
    "name": "ipython",
    "version": 3
   },
   "file_extension": ".py",
   "mimetype": "text/x-python",
   "name": "python",
   "nbconvert_exporter": "python",
   "pygments_lexer": "ipython3",
   "version": "3.7.3"
  }
 },
 "nbformat": 4,
 "nbformat_minor": 4
}
