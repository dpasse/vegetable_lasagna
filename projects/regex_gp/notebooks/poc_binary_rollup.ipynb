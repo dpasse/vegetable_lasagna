{
 "cells": [
  {
   "cell_type": "markdown",
   "metadata": {},
   "source": [
    "## Proof of Concept\n",
    "- method for rolling up multiple \"solutions\" into the \"best\" solution"
   ]
  },
  {
   "cell_type": "code",
   "execution_count": 1,
   "metadata": {},
   "outputs": [],
   "source": [
    "%config IPCompleter.greedy=True"
   ]
  },
  {
   "cell_type": "code",
   "execution_count": null,
   "metadata": {},
   "outputs": [],
   "source": []
  },
  {
   "cell_type": "code",
   "execution_count": 2,
   "metadata": {},
   "outputs": [],
   "source": [
    "import warnings\n",
    "\n",
    "warnings.filterwarnings('ignore')"
   ]
  },
  {
   "cell_type": "code",
   "execution_count": null,
   "metadata": {},
   "outputs": [],
   "source": []
  },
  {
   "cell_type": "code",
   "execution_count": 3,
   "metadata": {},
   "outputs": [
    {
     "name": "stdout",
     "output_type": "stream",
     "text": [
      "numpy: 1.16.3\n"
     ]
    }
   ],
   "source": [
    "import numpy as np\n",
    "\n",
    "print('numpy:', np.__version__)"
   ]
  },
  {
   "cell_type": "code",
   "execution_count": null,
   "metadata": {},
   "outputs": [],
   "source": []
  },
  {
   "cell_type": "code",
   "execution_count": 4,
   "metadata": {},
   "outputs": [
    {
     "name": "stdout",
     "output_type": "stream",
     "text": [
      "[['01', '00', '01', '11'], ['00', '00', '01', '01', '11'], ['01', '00', '01', '11']]\n"
     ]
    }
   ],
   "source": [
    "rows = [\n",
    "    ['01', '00', '01', '11'],\n",
    "    ['00', '00', '01', '01', '11'],\n",
    "    ['01', '00', '01', '11'],\n",
    "]\n",
    "\n",
    "print(rows)"
   ]
  },
  {
   "cell_type": "code",
   "execution_count": null,
   "metadata": {},
   "outputs": [],
   "source": []
  },
  {
   "cell_type": "code",
   "execution_count": 5,
   "metadata": {},
   "outputs": [
    {
     "name": "stdout",
     "output_type": "stream",
     "text": [
      "[['__', '01', '00', '01', '11'], ['00', '00', '01', '01', '11'], ['__', '01', '00', '01', '11']]\n"
     ]
    }
   ],
   "source": [
    "def normalize(rows, gene_length):\n",
    "    col_lengths = list(map(lambda r: len(r), rows))\n",
    "    max_cols = np.max(col_lengths)\n",
    "    min_cols = np.min(col_lengths)\n",
    "\n",
    "    if max_cols == min_cols:\n",
    "        return rows\n",
    "    \n",
    "    for row in rows:\n",
    "        while len(row) < max_cols:\n",
    "            row.insert(0, '_' * gene_length)\n",
    "\n",
    "normalize(rows, 2)\n",
    "\n",
    "print(rows)"
   ]
  },
  {
   "cell_type": "code",
   "execution_count": null,
   "metadata": {},
   "outputs": [],
   "source": []
  },
  {
   "cell_type": "code",
   "execution_count": 6,
   "metadata": {},
   "outputs": [
    {
     "name": "stdout",
     "output_type": "stream",
     "text": [
      "['__', '01', '00', '01', '11']\n"
     ]
    }
   ],
   "source": [
    "def generate_best_estimate(rows):\n",
    "    best_estimate = []\n",
    "    \n",
    "    possible_solutions = {}\n",
    "    \n",
    "    n_rows, n_cols = np.array(rows).shape\n",
    "    for c in range(0, n_cols):\n",
    "\n",
    "        possible_solutions_for_column = {}\n",
    "        for key in [ rows[r][c] for r in range(n_rows) ]:\n",
    "            possible_solutions_for_column[key] = possible_solutions_for_column.get(key, 0) + 1\n",
    "\n",
    "        \n",
    "        sorted_solutions = sorted(\n",
    "            possible_solutions_for_column.items(),\n",
    "            key = lambda x: x[1],\n",
    "            reverse = True\n",
    "        )\n",
    "\n",
    "        best = sorted_solutions[0][0]\n",
    "        best_estimate.append(best)\n",
    "    \n",
    "    return best_estimate\n",
    "        \n",
    "print(generate_best_estimate(rows))"
   ]
  },
  {
   "cell_type": "code",
   "execution_count": null,
   "metadata": {},
   "outputs": [],
   "source": []
  }
 ],
 "metadata": {
  "kernelspec": {
   "display_name": "Python 3",
   "language": "python",
   "name": "python3"
  },
  "language_info": {
   "codemirror_mode": {
    "name": "ipython",
    "version": 3
   },
   "file_extension": ".py",
   "mimetype": "text/x-python",
   "name": "python",
   "nbconvert_exporter": "python",
   "pygments_lexer": "ipython3",
   "version": "3.7.3"
  }
 },
 "nbformat": 4,
 "nbformat_minor": 4
}
