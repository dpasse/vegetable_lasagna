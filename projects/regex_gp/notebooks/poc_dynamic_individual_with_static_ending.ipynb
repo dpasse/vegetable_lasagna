{
 "cells": [
  {
   "cell_type": "markdown",
   "metadata": {},
   "source": [
    "## Proof of Concept\n",
    "- generating a regex expression\n",
    "- individual has a dynamic length, can grow / shrink, encouraging growth in fitness method\n",
    "- individual finds a distinct regex to produce the desired value."
   ]
  },
  {
   "cell_type": "code",
   "execution_count": 1,
   "metadata": {},
   "outputs": [],
   "source": [
    "%config IPCompleter.greedy=True"
   ]
  },
  {
   "cell_type": "code",
   "execution_count": null,
   "metadata": {},
   "outputs": [],
   "source": []
  },
  {
   "cell_type": "code",
   "execution_count": 2,
   "metadata": {},
   "outputs": [],
   "source": [
    "import warnings\n",
    "\n",
    "warnings.filterwarnings('ignore')"
   ]
  },
  {
   "cell_type": "code",
   "execution_count": null,
   "metadata": {},
   "outputs": [],
   "source": []
  },
  {
   "cell_type": "code",
   "execution_count": 3,
   "metadata": {},
   "outputs": [
    {
     "name": "stdout",
     "output_type": "stream",
     "text": [
      "re: 2.2.1\n",
      "numpy: 1.16.3\n"
     ]
    }
   ],
   "source": [
    "import re\n",
    "import numpy as np\n",
    "\n",
    "print('re:', re.__version__)\n",
    "print('numpy:', np.__version__)"
   ]
  },
  {
   "cell_type": "code",
   "execution_count": 4,
   "metadata": {},
   "outputs": [],
   "source": [
    "import sys\n",
    "\n",
    "sys.path.append('..')\n",
    "\n",
    "from package.ga import BinaryGeneFactory, AbstractFitness, SimpleHillClimber\n",
    "from package.transformers import IntegerToBinaryString, StringToMapping, KeyArrayToRegex"
   ]
  },
  {
   "cell_type": "code",
   "execution_count": null,
   "metadata": {},
   "outputs": [],
   "source": []
  },
  {
   "cell_type": "code",
   "execution_count": 5,
   "metadata": {},
   "outputs": [
    {
     "data": {
      "text/html": [
       "<h4>1. text, expected text</h4>\n"
      ],
      "text/plain": [
       "<IPython.core.display.HTML object>"
      ]
     },
     "metadata": {},
     "output_type": "display_data"
    }
   ],
   "source": [
    "%%html\n",
    "<h4>1. text, expected text</h4>"
   ]
  },
  {
   "cell_type": "code",
   "execution_count": null,
   "metadata": {},
   "outputs": [],
   "source": []
  },
  {
   "cell_type": "code",
   "execution_count": 6,
   "metadata": {},
   "outputs": [
    {
     "name": "stdout",
     "output_type": "stream",
     "text": [
      "ab mn gd: 0.33\n",
      "cd mn gd: 0.44\n",
      "de mn gd: 0.55\n",
      "fg mn gd: 0.66\n",
      "\n"
     ]
    }
   ],
   "source": [
    "## 1. text -> '{expected string}' within,\n",
    "expected_number = 0.55\n",
    "text = 'ab mn gd: 0.33\\n' \\\n",
    "     + 'cd mn gd: 0.44\\n' \\\n",
    "     + 'de mn gd: 0.55\\n' \\\n",
    "     + 'fg mn gd: 0.66\\n' \\\n",
    "\n",
    "static_ending = r'\\s([\\d.]*\\d[.\\d]*)\\b'\n",
    "\n",
    "print(text)"
   ]
  },
  {
   "cell_type": "code",
   "execution_count": null,
   "metadata": {},
   "outputs": [],
   "source": []
  },
  {
   "cell_type": "code",
   "execution_count": 7,
   "metadata": {},
   "outputs": [
    {
     "data": {
      "text/html": [
       "<h4>2. setup</h4>\n"
      ],
      "text/plain": [
       "<IPython.core.display.HTML object>"
      ]
     },
     "metadata": {},
     "output_type": "display_data"
    }
   ],
   "source": [
    "%%html\n",
    "<h4>2. setup</h4>"
   ]
  },
  {
   "cell_type": "code",
   "execution_count": null,
   "metadata": {},
   "outputs": [],
   "source": []
  },
  {
   "cell_type": "code",
   "execution_count": 8,
   "metadata": {},
   "outputs": [],
   "source": [
    "consts = 'abcdefghijklmnopqrstuvwxyz'\n",
    "regexes = [\n",
    "    r'\\s',\n",
    "    r'\\d',\n",
    "    r'[a-z]',\n",
    "    r'[:]',\n",
    "    r'[!?.]',\n",
    "    r'[0-9]'\n",
    "]\n",
    "\n",
    "complete_set = [ c for c in consts ] + regexes\n",
    "\n",
    "binary_start = 0\n",
    "binary_end = len(complete_set) -1 # hard end, values < binary_end\n",
    " \n",
    "integer_to_binary_transformer = IntegerToBinaryString.IntegerToBinaryString(5)\n",
    "gene_factory = BinaryGeneFactory.BinaryGeneFactory(binary_start, binary_end, 5)\n",
    "\n",
    "binary_to_regex = {}\n",
    "for i in range(binary_end):\n",
    "    key = integer_to_binary_transformer.transform(i)\n",
    "    binary_to_regex[key] = complete_set[i]\n",
    "\n",
    "string_mapper = StringToMapping.StringToMapping(binary_to_regex)\n",
    "to_regex = KeyArrayToRegex.KeyArrayToRegex(string_mapper)"
   ]
  },
  {
   "cell_type": "code",
   "execution_count": null,
   "metadata": {},
   "outputs": [],
   "source": []
  },
  {
   "cell_type": "code",
   "execution_count": 9,
   "metadata": {},
   "outputs": [],
   "source": [
    "class Fitness(AbstractFitness.AbstractFitness):\n",
    "    to_regex = None\n",
    "    expected_match = None\n",
    "    \n",
    "    def __init__(self, to_regex, expected_match, text):\n",
    "        self.to_regex = to_regex\n",
    "        self.expected_match = expected_match\n",
    "        self.text = text\n",
    "        \n",
    "        super()\n",
    "\n",
    "\n",
    "    previous_length = -1\n",
    "    previous_fitness = -1\n",
    "    \n",
    "    def evaluate_genes(self, individual, display_logging = False):\n",
    "        regex = ''\n",
    "        fitness = 0\n",
    "        length_of_individual = len(individual)\n",
    "        reverse = np.flip(self.to_regex.transform_to_array(individual))\n",
    "        for i, regex_item in enumerate(reverse):\n",
    "            temp_regex = regex_item + regex\n",
    "            \n",
    "            ## encourage individual regex correctness,\n",
    "            pattern = re.compile(temp_regex + static_ending, re.IGNORECASE)\n",
    "            matches = pattern.findall(text)\n",
    "            if len(matches) > 0:\n",
    "                fitness += (( 1 - (i / length_of_individual) ) / length_of_individual)\n",
    "            else:\n",
    "                ## when item is wrong,\n",
    "                temp_regex = '(.|\\s)' + regex\n",
    "            \n",
    "            regex = temp_regex\n",
    "            \n",
    "        perfect_score = np.array([ \n",
    "            (( 1 - (i / length_of_individual) ) / length_of_individual)\n",
    "            for i \n",
    "            in range(length_of_individual) ]\n",
    "        ).sum()\n",
    "        \n",
    "        return fitness / perfect_score\n",
    "    \n",
    "    def evaluate_individual(self, individual, display_logging = False):\n",
    "        regex = self.to_regex.transform(individual) + static_ending\n",
    "        pattern = re.compile(regex, re.IGNORECASE)\n",
    "        \n",
    "        fitness = 0\n",
    "        \n",
    "        # encourage matches, but less is better.\n",
    "        matches = pattern.findall(text)\n",
    "        if len(matches) == 1:\n",
    "            fitness += ( 1 / len(matches) )\n",
    "        \n",
    "        # encourage the only match being the correct match.\n",
    "        match = pattern.search(text)\n",
    "        if match is not None and float(match.group(1)) == self.expected_match:\n",
    "            fitness += 1\n",
    "            \n",
    "        return fitness\n",
    "        \n",
    "        \n",
    "    def evaluate(self, individual, display_logging = False):\n",
    "        new_fitness = 0.0\n",
    "        \n",
    "        new_fitness += self.evaluate_genes(individual, display_logging)\n",
    "        new_fitness += self.evaluate_individual(individual, display_logging)\n",
    "        \n",
    "        new_length = len(individual)\n",
    "        previous_fitness = self.previous_fitness\n",
    "        self.previous_fitness = new_fitness\n",
    "        \n",
    "        if previous_fitness == new_fitness:\n",
    "            if self.previous_length <= new_length:\n",
    "                new_fitness += 1 # encourage growth over shrinking,\n",
    "        \n",
    "        self.previous_length = new_length\n",
    "        \n",
    "        return new_fitness / 4\n",
    "    \n",
    "fitness_evaluator = Fitness(to_regex, expected_number, text)"
   ]
  },
  {
   "cell_type": "code",
   "execution_count": null,
   "metadata": {},
   "outputs": [],
   "source": []
  },
  {
   "cell_type": "code",
   "execution_count": 10,
   "metadata": {},
   "outputs": [],
   "source": [
    "def gene_mutator(gene, display_logging = False):\n",
    "    precentage = np.random.rand()\n",
    "    if precentage < .08:\n",
    "        new_gene = gene_factory.create()\n",
    "        gene = new_gene\n",
    "        \n",
    "    return gene\n",
    "\n",
    "def individual_height_mutator(individual, display_logging = False):\n",
    "    precentage = np.random.rand()\n",
    "    if precentage < .10:\n",
    "        gene = gene_factory.create()\n",
    "        individual = [gene] + individual # grow to the left,\n",
    "            \n",
    "    length = len(individual)\n",
    "    if precentage > .90 and length > 0:\n",
    "        individual = individual[1:] # remove from the left,\n",
    "        \n",
    "    return individual\n",
    "\n",
    "hill_climber = SimpleHillClimber.SimpleHillClimber(fitness_evaluator, [ gene_mutator ], [ individual_height_mutator ])"
   ]
  },
  {
   "cell_type": "code",
   "execution_count": null,
   "metadata": {},
   "outputs": [],
   "source": []
  },
  {
   "cell_type": "code",
   "execution_count": 11,
   "metadata": {},
   "outputs": [
    {
     "data": {
      "text/html": [
       "<h4>3. create individual</h4>\n"
      ],
      "text/plain": [
       "<IPython.core.display.HTML object>"
      ]
     },
     "metadata": {},
     "output_type": "display_data"
    }
   ],
   "source": [
    "%%html\n",
    "<h4>3. create individual</h4>"
   ]
  },
  {
   "cell_type": "code",
   "execution_count": null,
   "metadata": {},
   "outputs": [],
   "source": []
  },
  {
   "cell_type": "code",
   "execution_count": 12,
   "metadata": {},
   "outputs": [
    {
     "name": "stdout",
     "output_type": "stream",
     "text": [
      "binary: 00111|01010|10000|10100|01011|01101|01110|01101|10001|01011|10110|00001\n",
      "regex:  /hkqulnonrlwb\\s([\\d.]*\\d[.\\d]*)\\b/gimu\n"
     ]
    }
   ],
   "source": [
    "individual = gene_factory.create_many(12)\n",
    "\n",
    "print('binary:', '|'.join(individual))\n",
    "print('regex: ', '/'+ ''.join(to_regex.transform_and_compress(individual)) + static_ending + '/gimu')"
   ]
  },
  {
   "cell_type": "code",
   "execution_count": null,
   "metadata": {},
   "outputs": [],
   "source": []
  },
  {
   "cell_type": "code",
   "execution_count": 13,
   "metadata": {},
   "outputs": [
    {
     "data": {
      "text/html": [
       "<h4>4. run</h4>\n"
      ],
      "text/plain": [
       "<IPython.core.display.HTML object>"
      ]
     },
     "metadata": {},
     "output_type": "display_data"
    }
   ],
   "source": [
    "%%html\n",
    "<h4>4. run</h4>"
   ]
  },
  {
   "cell_type": "code",
   "execution_count": null,
   "metadata": {},
   "outputs": [],
   "source": []
  },
  {
   "cell_type": "code",
   "execution_count": 14,
   "metadata": {},
   "outputs": [
    {
     "name": "stdout",
     "output_type": "stream",
     "text": [
      "compressed: /[a-z]e\\s[a-z]n\\s[a-z]d[:]\\s([\\d.]*\\d[.\\d]*)\\b/gimu ~ 1.0 ~ 9188\n",
      "original: /hkqulnonrlwb/gimu\n"
     ]
    }
   ],
   "source": [
    "number_of_iterations = 10000\n",
    "result = hill_climber.run(individual, number_of_iterations, False)\n",
    "\n",
    "final_individual = result[0]\n",
    "final_fitness = result[1]\n",
    "final_iteration = result[2]\n",
    "\n",
    "print(\n",
    "    'compressed:',\n",
    "    '/' + to_regex.transform_and_compress(final_individual) + static_ending + '/gimu',\n",
    "    '~',\n",
    "    final_fitness,\n",
    "    '~',\n",
    "    final_iteration\n",
    ")\n",
    "\n",
    "print(\n",
    "    'original:',\n",
    "    '/' + to_regex.transform_and_compress(individual) + '/gimu',\n",
    ")"
   ]
  },
  {
   "cell_type": "code",
   "execution_count": null,
   "metadata": {},
   "outputs": [],
   "source": []
  },
  {
   "cell_type": "code",
   "execution_count": 15,
   "metadata": {},
   "outputs": [
    {
     "name": "stdout",
     "output_type": "stream",
     "text": [
      "de mn gd: 0.55 => 0.55\n"
     ]
    }
   ],
   "source": [
    "match = re.compile(\n",
    "    to_regex.transform_and_compress(final_individual) + static_ending,\n",
    "    re.IGNORECASE\n",
    ").search(text)\n",
    "\n",
    "if match is not None:\n",
    "    print(match.group(0), '=>', match.group(1))"
   ]
  },
  {
   "cell_type": "code",
   "execution_count": null,
   "metadata": {},
   "outputs": [],
   "source": []
  }
 ],
 "metadata": {
  "kernelspec": {
   "display_name": "Python 3",
   "language": "python",
   "name": "python3"
  },
  "language_info": {
   "codemirror_mode": {
    "name": "ipython",
    "version": 3
   },
   "file_extension": ".py",
   "mimetype": "text/x-python",
   "name": "python",
   "nbconvert_exporter": "python",
   "pygments_lexer": "ipython3",
   "version": "3.7.3"
  }
 },
 "nbformat": 4,
 "nbformat_minor": 4
}
