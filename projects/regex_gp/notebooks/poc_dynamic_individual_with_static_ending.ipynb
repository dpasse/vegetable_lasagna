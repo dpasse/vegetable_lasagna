{
 "cells": [
  {
   "cell_type": "markdown",
   "metadata": {},
   "source": [
    "## Proof of Concept\n",
    "- generating a regex expression\n",
    "- individual has a dynamic length, can grow / shrink, encouraging growth in fitness method\n",
    "- individual finds a distinct regex to produce the desired value."
   ]
  },
  {
   "cell_type": "code",
   "execution_count": 1,
   "metadata": {},
   "outputs": [],
   "source": [
    "%config IPCompleter.greedy=True"
   ]
  },
  {
   "cell_type": "code",
   "execution_count": null,
   "metadata": {},
   "outputs": [],
   "source": []
  },
  {
   "cell_type": "code",
   "execution_count": 2,
   "metadata": {},
   "outputs": [],
   "source": [
    "import warnings\n",
    "\n",
    "warnings.filterwarnings('ignore')"
   ]
  },
  {
   "cell_type": "code",
   "execution_count": null,
   "metadata": {},
   "outputs": [],
   "source": []
  },
  {
   "cell_type": "code",
   "execution_count": 3,
   "metadata": {},
   "outputs": [
    {
     "name": "stdout",
     "output_type": "stream",
     "text": [
      "re: 2.2.1\n",
      "numpy: 1.16.3\n"
     ]
    }
   ],
   "source": [
    "import re\n",
    "import numpy as np\n",
    "\n",
    "print('re:', re.__version__)\n",
    "print('numpy:', np.__version__)"
   ]
  },
  {
   "cell_type": "code",
   "execution_count": 4,
   "metadata": {},
   "outputs": [],
   "source": [
    "import sys\n",
    "\n",
    "sys.path.append('..')\n",
    "\n",
    "from package.ga import BinaryGeneFactory, AbstractFitness, SimpleHillClimber\n",
    "from package.transformers import IntegerToBinaryString, StringToMapping, KeyArrayToRegex"
   ]
  },
  {
   "cell_type": "code",
   "execution_count": null,
   "metadata": {},
   "outputs": [],
   "source": []
  },
  {
   "cell_type": "code",
   "execution_count": 5,
   "metadata": {},
   "outputs": [
    {
     "data": {
      "text/html": [
       "<h4>1. text, expected text</h4>\n"
      ],
      "text/plain": [
       "<IPython.core.display.HTML object>"
      ]
     },
     "metadata": {},
     "output_type": "display_data"
    }
   ],
   "source": [
    "%%html\n",
    "<h4>1. text, expected text</h4>"
   ]
  },
  {
   "cell_type": "code",
   "execution_count": 6,
   "metadata": {},
   "outputs": [
    {
     "name": "stdout",
     "output_type": "stream",
     "text": [
      "ab mn gd: 0.33\n",
      "cd mn gd: 0.44\n",
      "de mn gd: 0.55\n",
      "fg mn gd: 0.66\n",
      "\n"
     ]
    }
   ],
   "source": [
    "## 1. text -> '{expected string}' within,\n",
    "expected_number = 0.55\n",
    "text = 'ab mn gd: 0.33\\n' \\\n",
    "     + 'cd mn gd: 0.44\\n' \\\n",
    "     + 'de mn gd: 0.55\\n' \\\n",
    "     + 'fg mn gd: 0.66\\n' \\\n",
    "\n",
    "static_ending = r'\\W([\\d.]*\\d[.\\d]*)\\b'\n",
    "\n",
    "print(text)"
   ]
  },
  {
   "cell_type": "code",
   "execution_count": null,
   "metadata": {},
   "outputs": [],
   "source": []
  },
  {
   "cell_type": "code",
   "execution_count": 7,
   "metadata": {},
   "outputs": [
    {
     "data": {
      "text/html": [
       "<h4>2. setup</h4>\n"
      ],
      "text/plain": [
       "<IPython.core.display.HTML object>"
      ]
     },
     "metadata": {},
     "output_type": "display_data"
    }
   ],
   "source": [
    "%%html\n",
    "<h4>2. setup</h4>"
   ]
  },
  {
   "cell_type": "code",
   "execution_count": 8,
   "metadata": {},
   "outputs": [],
   "source": [
    "consts = 'abcdefghijklmnopqrstuvwxyz'\n",
    "regexes = [\n",
    "    r'\\s',\n",
    "    r'\\d',\n",
    "    r'[a-z]',\n",
    "    r'[:]',\n",
    "    r'[!?.]',\n",
    "    r'\\W'\n",
    "]\n",
    "\n",
    "complete_set = [ c for c in consts ] + regexes\n",
    "\n",
    "binary_start = 0\n",
    "binary_end = len(complete_set) -1 # hard end, values < binary_end\n",
    " \n",
    "integer_to_binary_transformer = IntegerToBinaryString(5)\n",
    "gene_factory = BinaryGeneFactory(binary_start, binary_end, 5)\n",
    "\n",
    "binary_to_regex = {}\n",
    "for i in range(binary_end):\n",
    "    key = integer_to_binary_transformer.transform(i)\n",
    "    binary_to_regex[key] = complete_set[i]\n",
    "\n",
    "string_mapper = StringToMapping(binary_to_regex)\n",
    "to_regex = KeyArrayToRegex(string_mapper)"
   ]
  },
  {
   "cell_type": "code",
   "execution_count": null,
   "metadata": {},
   "outputs": [],
   "source": []
  },
  {
   "cell_type": "code",
   "execution_count": 9,
   "metadata": {},
   "outputs": [],
   "source": [
    "from package.ga.setups import DynamicWithStaticEnding\n",
    "\n",
    "fitness_evaluator = DynamicWithStaticEnding.Fitness(to_regex, static_ending, expected_number, text)\n",
    "mutator = DynamicWithStaticEnding.Mutator(gene_factory)\n",
    "hill_climber = SimpleHillClimber(fitness_evaluator, [ mutator.gene_mutator ], [ mutator.individual_height_mutator ])"
   ]
  },
  {
   "cell_type": "code",
   "execution_count": null,
   "metadata": {},
   "outputs": [],
   "source": []
  },
  {
   "cell_type": "code",
   "execution_count": 10,
   "metadata": {},
   "outputs": [
    {
     "data": {
      "text/html": [
       "<h4>3. create individual</h4>\n"
      ],
      "text/plain": [
       "<IPython.core.display.HTML object>"
      ]
     },
     "metadata": {},
     "output_type": "display_data"
    }
   ],
   "source": [
    "%%html\n",
    "<h4>3. create individual</h4>"
   ]
  },
  {
   "cell_type": "code",
   "execution_count": 11,
   "metadata": {},
   "outputs": [
    {
     "name": "stdout",
     "output_type": "stream",
     "text": [
      "binary: 01110|10111|11010|01110|10011|01001|01011|01001|11110|10101|11101|11001\n",
      "regex:  /ox\\sotjlj[!?.]v[:]z\\W([\\d.]*\\d[.\\d]*)\\b/gimu\n"
     ]
    }
   ],
   "source": [
    "individual = gene_factory.create_many(12)\n",
    "\n",
    "print('binary:', '|'.join(individual))\n",
    "print('regex: ', '/'+ ''.join(to_regex.transform_and_compress(individual)) + static_ending + '/gimu')"
   ]
  },
  {
   "cell_type": "code",
   "execution_count": null,
   "metadata": {},
   "outputs": [],
   "source": []
  },
  {
   "cell_type": "code",
   "execution_count": 12,
   "metadata": {},
   "outputs": [
    {
     "data": {
      "text/html": [
       "<h4>4. run</h4>\n"
      ],
      "text/plain": [
       "<IPython.core.display.HTML object>"
      ]
     },
     "metadata": {},
     "output_type": "display_data"
    }
   ],
   "source": [
    "%%html\n",
    "<h4>4. run</h4>"
   ]
  },
  {
   "cell_type": "code",
   "execution_count": 13,
   "metadata": {},
   "outputs": [
    {
     "name": "stdout",
     "output_type": "stream",
     "text": [
      "compressed: /[a-z]e\\s[a-z]+\\s[a-z]d[:]\\W([\\d.]*\\d[.\\d]*)\\b/gimu ~ 1.0 ~ 1069\n",
      "original: /ox\\sotjlj[!?.]v[:]z/gimu\n"
     ]
    }
   ],
   "source": [
    "number_of_iterations = 10000\n",
    "result = hill_climber.run(individual, number_of_iterations, False)\n",
    "\n",
    "final_individual = result[0]\n",
    "final_fitness = result[1]\n",
    "final_iteration = result[2]\n",
    "\n",
    "print(\n",
    "    'compressed:',\n",
    "    '/' + to_regex.transform_and_compress(final_individual) + static_ending + '/gimu',\n",
    "    '~',\n",
    "    final_fitness,\n",
    "    '~',\n",
    "    final_iteration\n",
    ")\n",
    "\n",
    "print(\n",
    "    'original:',\n",
    "    '/' + to_regex.transform_and_compress(individual) + '/gimu',\n",
    ")"
   ]
  },
  {
   "cell_type": "code",
   "execution_count": null,
   "metadata": {},
   "outputs": [],
   "source": []
  },
  {
   "cell_type": "code",
   "execution_count": 14,
   "metadata": {},
   "outputs": [
    {
     "name": "stdout",
     "output_type": "stream",
     "text": [
      "de mn gd: 0.55 => 0.55\n"
     ]
    }
   ],
   "source": [
    "match = re.compile(\n",
    "    to_regex.transform_and_compress(final_individual) + static_ending,\n",
    "    re.IGNORECASE\n",
    ").search(text)\n",
    "\n",
    "if match is not None:\n",
    "    print(match.group(0), '=>', match.group(1))"
   ]
  },
  {
   "cell_type": "code",
   "execution_count": null,
   "metadata": {},
   "outputs": [],
   "source": []
  }
 ],
 "metadata": {
  "kernelspec": {
   "display_name": "Python 3",
   "language": "python",
   "name": "python3"
  },
  "language_info": {
   "codemirror_mode": {
    "name": "ipython",
    "version": 3
   },
   "file_extension": ".py",
   "mimetype": "text/x-python",
   "name": "python",
   "nbconvert_exporter": "python",
   "pygments_lexer": "ipython3",
   "version": "3.7.3"
  }
 },
 "nbformat": 4,
 "nbformat_minor": 4
}
