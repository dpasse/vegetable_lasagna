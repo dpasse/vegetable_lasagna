{
 "cells": [
  {
   "cell_type": "markdown",
   "metadata": {},
   "source": [
    "## Proof of Concept\n",
    "- convert text document to black/white image input."
   ]
  },
  {
   "cell_type": "code",
   "execution_count": 1,
   "metadata": {},
   "outputs": [],
   "source": [
    "%config IPCompleter.greedy=True"
   ]
  },
  {
   "cell_type": "code",
   "execution_count": null,
   "metadata": {},
   "outputs": [],
   "source": []
  },
  {
   "cell_type": "code",
   "execution_count": 2,
   "metadata": {},
   "outputs": [],
   "source": [
    "import warnings\n",
    "\n",
    "warnings.filterwarnings('ignore')"
   ]
  },
  {
   "cell_type": "code",
   "execution_count": null,
   "metadata": {},
   "outputs": [],
   "source": []
  },
  {
   "cell_type": "code",
   "execution_count": 3,
   "metadata": {},
   "outputs": [],
   "source": [
    "import numpy as np"
   ]
  },
  {
   "cell_type": "code",
   "execution_count": null,
   "metadata": {},
   "outputs": [],
   "source": []
  },
  {
   "cell_type": "code",
   "execution_count": 4,
   "metadata": {
    "jupyter": {
     "source_hidden": true
    }
   },
   "outputs": [
    {
     "data": {
      "text/html": [
       "\n",
       "<h5>1. setup</h5>\n"
      ],
      "text/plain": [
       "<IPython.core.display.HTML object>"
      ]
     },
     "metadata": {},
     "output_type": "display_data"
    }
   ],
   "source": [
    "%%html\n",
    "\n",
    "<h5>1. setup</h5>"
   ]
  },
  {
   "cell_type": "code",
   "execution_count": null,
   "metadata": {},
   "outputs": [],
   "source": []
  },
  {
   "cell_type": "code",
   "execution_count": 5,
   "metadata": {},
   "outputs": [
    {
     "name": "stdout",
     "output_type": "stream",
     "text": [
      "example document:\n",
      "-----------------------------------------\n",
      "\n",
      "     abc: 10     abc: 10     abc: 10\n",
      "     abc: 10     abc: 10     abc: 10\n",
      "     abc: 10     abc: 10     abc: 10\n",
      "     abc: 10     abc: 10     abc: 10\n",
      "\n",
      "-----------------------------------------\n",
      "\n",
      "     abc: 10     abc: 10     abc: 10\n",
      "     abc: 10     abc: 10     abc: 10\n",
      "     abc: 10     abc: 10     abc: 10\n",
      "     abc: 10     abc: 10     abc: 10\n",
      "\n",
      "-----------------------------------------\n"
     ]
    }
   ],
   "source": [
    "document = '\\n' \\\n",
    "     + '     abc: 10     abc: 10     abc: 10' + '\\n' \\\n",
    "     + '     abc: 10     abc: 10     abc: 10' + '\\n' \\\n",
    "     + '     abc: 10     abc: 10     abc: 10' + '\\n' \\\n",
    "     + '     abc: 10     abc: 10     abc: 10' + '\\n' \\\n",
    "     + '\\n' \\\n",
    "     + '-----------------------------------------' + '\\n' \\\n",
    "     + '\\n' \\\n",
    "     + '     abc: 10     abc: 10     abc: 10' + '\\n' \\\n",
    "     + '     abc: 10     abc: 10     abc: 10' + '\\n' \\\n",
    "     + '     abc: 10     abc: 10     abc: 10' + '\\n' \\\n",
    "     + '     abc: 10     abc: 10     abc: 10' + '\\n' \\\n",
    "\n",
    "print('example document:')\n",
    "print('-----------------------------------------')\n",
    "print(document)\n",
    "print('-----------------------------------------')"
   ]
  },
  {
   "cell_type": "code",
   "execution_count": null,
   "metadata": {},
   "outputs": [],
   "source": []
  },
  {
   "cell_type": "code",
   "execution_count": 6,
   "metadata": {
    "jupyter": {
     "source_hidden": true
    }
   },
   "outputs": [
    {
     "data": {
      "text/html": [
       "\n",
       "<h5>2. convert document to matrix</h5>\n"
      ],
      "text/plain": [
       "<IPython.core.display.HTML object>"
      ]
     },
     "metadata": {},
     "output_type": "display_data"
    }
   ],
   "source": [
    "%%html\n",
    "\n",
    "<h5>2. convert document to matrix</h5>"
   ]
  },
  {
   "cell_type": "code",
   "execution_count": null,
   "metadata": {},
   "outputs": [],
   "source": []
  },
  {
   "cell_type": "code",
   "execution_count": 7,
   "metadata": {},
   "outputs": [],
   "source": [
    "lines_in_document = document.split('\\n')"
   ]
  },
  {
   "cell_type": "code",
   "execution_count": 8,
   "metadata": {},
   "outputs": [],
   "source": [
    "## shape\n",
    "length = len(lines_in_document)\n",
    "width = np.max(\n",
    "    [\n",
    "        len(line)\n",
    "        for line\n",
    "        in lines_in_document\n",
    "    ]\n",
    ")\n",
    "\n",
    "document_as_matrix = np.zeros((length, width))"
   ]
  },
  {
   "cell_type": "code",
   "execution_count": 9,
   "metadata": {},
   "outputs": [],
   "source": [
    "for r, line in enumerate(lines_in_document):\n",
    "    for c, char in enumerate(line.replace('\\s', ' ')):\n",
    "        if char != ' ':\n",
    "            document_as_matrix[r, c] = 1"
   ]
  },
  {
   "cell_type": "code",
   "execution_count": null,
   "metadata": {},
   "outputs": [],
   "source": []
  },
  {
   "cell_type": "code",
   "execution_count": 10,
   "metadata": {
    "jupyter": {
     "source_hidden": true
    }
   },
   "outputs": [
    {
     "data": {
      "text/html": [
       "\n",
       "<h5>3. image / document</h5>\n"
      ],
      "text/plain": [
       "<IPython.core.display.HTML object>"
      ]
     },
     "metadata": {},
     "output_type": "display_data"
    }
   ],
   "source": [
    "%%html\n",
    "\n",
    "<h5>3. image / document</h5>"
   ]
  },
  {
   "cell_type": "code",
   "execution_count": null,
   "metadata": {},
   "outputs": [],
   "source": []
  },
  {
   "cell_type": "code",
   "execution_count": 11,
   "metadata": {},
   "outputs": [],
   "source": [
    "import matplotlib.pyplot as plt"
   ]
  },
  {
   "cell_type": "code",
   "execution_count": 12,
   "metadata": {},
   "outputs": [
    {
     "name": "stdout",
     "output_type": "stream",
     "text": [
      "example document:\n",
      "-----------------------------------------\n",
      "\n",
      "     abc: 10     abc: 10     abc: 10\n",
      "     abc: 10     abc: 10     abc: 10\n",
      "     abc: 10     abc: 10     abc: 10\n",
      "     abc: 10     abc: 10     abc: 10\n",
      "\n",
      "-----------------------------------------\n",
      "\n",
      "     abc: 10     abc: 10     abc: 10\n",
      "     abc: 10     abc: 10     abc: 10\n",
      "     abc: 10     abc: 10     abc: 10\n",
      "     abc: 10     abc: 10     abc: 10\n",
      "\n",
      "-----------------------------------------\n"
     ]
    },
    {
     "data": {
      "text/plain": [
       "<matplotlib.image.AxesImage at 0x11937f588>"
      ]
     },
     "execution_count": 12,
     "metadata": {},
     "output_type": "execute_result"
    },
    {
     "data": {
      "image/png": "[encoded data removed]",
      "text/plain": [
       "<Figure size 432x288 with 1 Axes>"
      ]
     },
     "metadata": {
      "needs_background": "light"
     },
     "output_type": "display_data"
    }
   ],
   "source": [
    "print('example document:')\n",
    "print('-----------------------------------------')\n",
    "print(document)\n",
    "print('-----------------------------------------')\n",
    "\n",
    "plt.imshow(document_as_matrix)"
   ]
  },
  {
   "cell_type": "code",
   "execution_count": null,
   "metadata": {},
   "outputs": [],
   "source": []
  }
 ],
 "metadata": {
  "kernelspec": {
   "display_name": "Python 3",
   "language": "python",
   "name": "python3"
  },
  "language_info": {
   "codemirror_mode": {
    "name": "ipython",
    "version": 3
   },
   "file_extension": ".py",
   "mimetype": "text/x-python",
   "name": "python",
   "nbconvert_exporter": "python",
   "pygments_lexer": "ipython3",
   "version": "3.7.3"
  }
 },
 "nbformat": 4,
 "nbformat_minor": 4
}
