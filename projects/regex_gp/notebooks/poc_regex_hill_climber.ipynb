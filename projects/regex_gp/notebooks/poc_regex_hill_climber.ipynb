{
 "cells": [
  {
   "cell_type": "markdown",
   "metadata": {},
   "source": [
    " "
   ]
  },
  {
   "cell_type": "markdown",
   "metadata": {},
   "source": [
    "## Proof of Concept\n",
    "- JUST generating a regex expression to match a particular string"
   ]
  },
  {
   "cell_type": "code",
   "execution_count": 1,
   "metadata": {},
   "outputs": [],
   "source": [
    "%config IPCompleter.greedy=True"
   ]
  },
  {
   "cell_type": "code",
   "execution_count": 2,
   "metadata": {},
   "outputs": [],
   "source": [
    "import warnings\n",
    "\n",
    "warnings.filterwarnings('ignore')"
   ]
  },
  {
   "cell_type": "code",
   "execution_count": null,
   "metadata": {},
   "outputs": [],
   "source": []
  },
  {
   "cell_type": "code",
   "execution_count": 3,
   "metadata": {},
   "outputs": [
    {
     "name": "stdout",
     "output_type": "stream",
     "text": [
      "re: 2.2.1\n",
      "numpy: 1.16.3\n"
     ]
    }
   ],
   "source": [
    "import re\n",
    "import numpy as np\n",
    "\n",
    "print('re:', re.__version__)\n",
    "print('numpy:', np.__version__)"
   ]
  },
  {
   "cell_type": "code",
   "execution_count": null,
   "metadata": {},
   "outputs": [],
   "source": []
  },
  {
   "cell_type": "code",
   "execution_count": 4,
   "metadata": {},
   "outputs": [],
   "source": [
    "import sys\n",
    "\n",
    "sys.path.append('..')\n",
    "\n",
    "from package.ga import BinaryGeneFactory\n",
    "from package.transformer import IntegerToBinaryString, StringToMapping, KeyArrayToRegex"
   ]
  },
  {
   "cell_type": "code",
   "execution_count": null,
   "metadata": {},
   "outputs": [],
   "source": []
  },
  {
   "cell_type": "code",
   "execution_count": 5,
   "metadata": {},
   "outputs": [],
   "source": [
    "expected_match = 'backstreets back   11:05:20   alright'\n",
    "length_of_expected_match = len(expected_match)"
   ]
  },
  {
   "cell_type": "code",
   "execution_count": null,
   "metadata": {},
   "outputs": [],
   "source": []
  },
  {
   "cell_type": "code",
   "execution_count": 6,
   "metadata": {},
   "outputs": [],
   "source": [
    "binary_start = 0\n",
    "binary_end = 3 + 1\n",
    "\n",
    "gene_factory = BinaryGeneFactory.BinaryGeneFactory(2)\n",
    "string_mapper = StringToMapping.StringToMapping({\n",
    "    '00': r'\\s',\n",
    "    '01': r'\\d',\n",
    "    '10': r'[a-z]',\n",
    "    '11': r'[:]'\n",
    "})\n",
    "to_regex = KeyArrayToRegex.KeyArrayToRegex(string_mapper)"
   ]
  },
  {
   "cell_type": "code",
   "execution_count": null,
   "metadata": {},
   "outputs": [],
   "source": []
  },
  {
   "cell_type": "code",
   "execution_count": 7,
   "metadata": {},
   "outputs": [],
   "source": [
    "def evaluate_fitness(individual):\n",
    "    transformed = to_regex.transform_to_array(individual)\n",
    "    return np.array(\n",
    "        [ \n",
    "            re.match(ai, expected_match[i]) != None \n",
    "            for i, ai \n",
    "            in enumerate(transformed) \n",
    "        ]\n",
    "    ).astype(int).sum() / length_of_expected_match"
   ]
  },
  {
   "cell_type": "code",
   "execution_count": null,
   "metadata": {},
   "outputs": [],
   "source": []
  },
  {
   "cell_type": "code",
   "execution_count": 8,
   "metadata": {},
   "outputs": [
    {
     "name": "stdout",
     "output_type": "stream",
     "text": [
      "binary: 00|00|00|00|10|00|10|00|11|01|00|11|00|10|11|11|00|11|01|11|00|01|10|01|10|11|11|00|10|11|00|00|11|01|01|01|01\n",
      "regex:  \\s+[a-z]\\s[a-z]\\s[:]\\d\\s[:]\\s[a-z][:]+\\s[:]\\d[:]\\s\\d[a-z]\\d[a-z][:]+\\s[a-z][:]\\s+[:]\\d+\n"
     ]
    }
   ],
   "source": [
    "individual = gene_factory.create_many(0, 4, length_of_expected_match)\n",
    "\n",
    "print('binary:', '|'.join(individual))\n",
    "print('regex: ', ''.join(to_regex.transform_and_compress(individual)))"
   ]
  },
  {
   "cell_type": "code",
   "execution_count": null,
   "metadata": {},
   "outputs": [],
   "source": []
  },
  {
   "cell_type": "code",
   "execution_count": 9,
   "metadata": {},
   "outputs": [],
   "source": [
    "log_progress = False\n",
    "number_of_iterations = 5000\n",
    "\n",
    "for iteration in range(number_of_iterations):\n",
    "    fitness = evaluate_fitness(individual)\n",
    "    \n",
    "    if log_progress:\n",
    "        print('iteration:', iteration, '=', fitness)\n",
    "    \n",
    "    if (fitness >= 1):\n",
    "        ## finished early,\n",
    "        break\n",
    "        \n",
    "    new_individual = []\n",
    "    for gene in individual:\n",
    "        precentage = np.random.rand()\n",
    "        if precentage < .08:\n",
    "            gene = gene_factory.create(0, 4)\n",
    "        \n",
    "        new_individual.append(gene)\n",
    "    \n",
    "    if evaluate_fitness(new_individual) > fitness:\n",
    "        individual = new_individual"
   ]
  },
  {
   "cell_type": "code",
   "execution_count": null,
   "metadata": {},
   "outputs": [],
   "source": []
  },
  {
   "cell_type": "code",
   "execution_count": 10,
   "metadata": {},
   "outputs": [
    {
     "name": "stdout",
     "output_type": "stream",
     "text": [
      "compressed: /[a-z]+\\s[a-z]+\\s+\\d+[:]\\d+[:]\\d+\\s+[a-z]+/gimu ~ \"backstreets back   11:05:20   alright\" ~ 1.0\n"
     ]
    }
   ],
   "source": [
    "print(\n",
    "    'compressed:',\n",
    "    '/' + to_regex.transform_and_compress(individual) + '/gimu',\n",
    "    '~',\n",
    "    '\"' + expected_match + '\"',\n",
    "    '~',\n",
    "    evaluate_fitness(individual)\n",
    ")"
   ]
  },
  {
   "cell_type": "code",
   "execution_count": null,
   "metadata": {},
   "outputs": [],
   "source": []
  }
 ],
 "metadata": {
  "kernelspec": {
   "display_name": "Python 3",
   "language": "python",
   "name": "python3"
  },
  "language_info": {
   "codemirror_mode": {
    "name": "ipython",
    "version": 3
   },
   "file_extension": ".py",
   "mimetype": "text/x-python",
   "name": "python",
   "nbconvert_exporter": "python",
   "pygments_lexer": "ipython3",
   "version": "3.7.3"
  }
 },
 "nbformat": 4,
 "nbformat_minor": 4
}
