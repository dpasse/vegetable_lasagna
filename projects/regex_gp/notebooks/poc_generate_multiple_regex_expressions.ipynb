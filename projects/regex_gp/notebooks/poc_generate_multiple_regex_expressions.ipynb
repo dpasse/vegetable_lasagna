{
 "cells": [
  {
   "cell_type": "markdown",
   "metadata": {},
   "source": [
    "## Proof of Concept\n",
    "- generate multiple distinct regex expressions"
   ]
  },
  {
   "cell_type": "code",
   "execution_count": 1,
   "metadata": {},
   "outputs": [],
   "source": [
    "%config IPCompleter.greedy=True"
   ]
  },
  {
   "cell_type": "code",
   "execution_count": null,
   "metadata": {},
   "outputs": [],
   "source": []
  },
  {
   "cell_type": "code",
   "execution_count": 2,
   "metadata": {},
   "outputs": [],
   "source": [
    "import warnings\n",
    "\n",
    "warnings.filterwarnings('ignore')"
   ]
  },
  {
   "cell_type": "code",
   "execution_count": null,
   "metadata": {},
   "outputs": [],
   "source": []
  },
  {
   "cell_type": "code",
   "execution_count": 3,
   "metadata": {},
   "outputs": [
    {
     "name": "stdout",
     "output_type": "stream",
     "text": [
      "re: 2.2.1\n",
      "numpy: 1.16.3\n"
     ]
    }
   ],
   "source": [
    "import re\n",
    "import numpy as np\n",
    "\n",
    "print('re:', re.__version__)\n",
    "print('numpy:', np.__version__)\n",
    "\n",
    "import sys\n",
    "\n",
    "sys.path.append('..')\n",
    "\n",
    "from package.ga import BinaryGeneFactory, AbstractFitness, SimpleHillClimber\n",
    "from package.transformers import IntegerToBinaryString, StringToMapping, KeyArrayToRegex"
   ]
  },
  {
   "cell_type": "code",
   "execution_count": null,
   "metadata": {},
   "outputs": [],
   "source": []
  },
  {
   "cell_type": "code",
   "execution_count": 4,
   "metadata": {},
   "outputs": [
    {
     "data": {
      "text/html": [
       "<h4>1. document setup</h4>\n"
      ],
      "text/plain": [
       "<IPython.core.display.HTML object>"
      ]
     },
     "metadata": {},
     "output_type": "display_data"
    }
   ],
   "source": [
    "%%html\n",
    "<h4>1. document setup</h4>"
   ]
  },
  {
   "cell_type": "code",
   "execution_count": 5,
   "metadata": {},
   "outputs": [
    {
     "name": "stdout",
     "output_type": "stream",
     "text": [
      "[0.33, 0.44, 0.55, 0.66]\n"
     ]
    }
   ],
   "source": [
    "text = 'ab mn gd: 0.33\\n' \\\n",
    "     + 'cd mn gd: 0.44\\n' \\\n",
    "     + 'de mn gd: 0.55\\n' \\\n",
    "     + 'fg mn gd: 0.66\\n' \\\n",
    "\n",
    "static_ending = r'\\W([\\d.]*\\d[.\\d]*)\\b'\n",
    "\n",
    "expected_numbers = list(map(lambda n: float(n), re.compile(static_ending).findall(text)))\n",
    "print(expected_numbers)"
   ]
  },
  {
   "cell_type": "code",
   "execution_count": null,
   "metadata": {},
   "outputs": [],
   "source": []
  },
  {
   "cell_type": "code",
   "execution_count": 6,
   "metadata": {},
   "outputs": [
    {
     "data": {
      "text/html": [
       "<h4>2. setup</h4>\n"
      ],
      "text/plain": [
       "<IPython.core.display.HTML object>"
      ]
     },
     "metadata": {},
     "output_type": "display_data"
    }
   ],
   "source": [
    "%%html\n",
    "<h4>2. setup</h4>"
   ]
  },
  {
   "cell_type": "code",
   "execution_count": 7,
   "metadata": {},
   "outputs": [],
   "source": [
    "consts = 'abcdefghijklmnopqrstuvwxyz'\n",
    "regexes = [\n",
    "    r'\\s',\n",
    "    r'\\d',\n",
    "    r'[a-z]',\n",
    "    r'[:]',\n",
    "    r'[!?.]',\n",
    "    r'\\W'\n",
    "]\n",
    "\n",
    "complete_set = [ c for c in consts ] + regexes\n",
    "\n",
    "binary_start = 0\n",
    "binary_end = len(complete_set) -1 # hard end, values < binary_end\n",
    " \n",
    "integer_to_binary_transformer = IntegerToBinaryString(5)\n",
    "gene_factory = BinaryGeneFactory(binary_start, binary_end, 5)\n",
    "\n",
    "binary_to_regex = {}\n",
    "for i in range(binary_end):\n",
    "    key = integer_to_binary_transformer.transform(i)\n",
    "    binary_to_regex[key] = complete_set[i]\n",
    "\n",
    "string_mapper = StringToMapping(binary_to_regex)\n",
    "to_regex = KeyArrayToRegex(string_mapper)"
   ]
  },
  {
   "cell_type": "code",
   "execution_count": null,
   "metadata": {},
   "outputs": [],
   "source": []
  },
  {
   "cell_type": "code",
   "execution_count": 8,
   "metadata": {},
   "outputs": [],
   "source": [
    "from package.ga.setups import DynamicWithStaticEnding\n",
    "\n",
    "mutator = DynamicWithStaticEnding.Mutator(gene_factory)"
   ]
  },
  {
   "cell_type": "code",
   "execution_count": null,
   "metadata": {},
   "outputs": [],
   "source": []
  },
  {
   "cell_type": "code",
   "execution_count": 9,
   "metadata": {},
   "outputs": [
    {
     "data": {
      "text/html": [
       "<h4>3. generate</h4>\n"
      ],
      "text/plain": [
       "<IPython.core.display.HTML object>"
      ]
     },
     "metadata": {},
     "output_type": "display_data"
    }
   ],
   "source": [
    "%%html\n",
    "<h4>3. generate</h4>"
   ]
  },
  {
   "cell_type": "code",
   "execution_count": 10,
   "metadata": {},
   "outputs": [
    {
     "name": "stdout",
     "output_type": "stream",
     "text": [
      "compressed: /b\\s[a-z]n\\s[a-z]+[:]\\W([\\d.]*\\d[.\\d]*)\\b/gimu ~ 1.0 ~ 2939 == 0.33\n",
      "compressed: /c[a-z]\\smn\\s[a-z]d[:]\\W([\\d.]*\\d[.\\d]*)\\b/gimu ~ 1.0 ~ 7428 == 0.44\n",
      "compressed: /e\\s[a-z]n\\s[a-z]+[:]\\W([\\d.]*\\d[.\\d]*)\\b/gimu ~ 1.0 ~ 3218 == 0.55\n",
      "compressed: /g\\s[a-z]+\\sg[a-z][:]\\W([\\d.]*\\d[.\\d]*)\\b/gimu ~ 1.0 ~ 2829 == 0.66\n"
     ]
    }
   ],
   "source": [
    "output = []\n",
    "number_of_iterations = 10000\n",
    "for expected_number in expected_numbers:\n",
    "    individual = gene_factory.create_many(10)\n",
    "    \n",
    "    fitness_evaluator = DynamicWithStaticEnding.Fitness(to_regex, static_ending, expected_number, text)\n",
    "    hill_climber = SimpleHillClimber(fitness_evaluator, [ mutator.gene_mutator ], [ mutator.individual_height_mutator ])\n",
    "    \n",
    "    result = hill_climber.run(individual, number_of_iterations, False)\n",
    "    final_individual = result[0]\n",
    "    final_fitness = result[1]\n",
    "    final_iteration = result[2]\n",
    "    \n",
    "    print(\n",
    "        'compressed:',\n",
    "        '/' + to_regex.transform_and_compress(final_individual) + static_ending + '/gimu',\n",
    "        '~',\n",
    "        final_fitness,\n",
    "        '~',\n",
    "        final_iteration,\n",
    "        '==',\n",
    "        expected_number,\n",
    "    )\n",
    "\n",
    "    output.append(\n",
    "        (to_regex.transform_and_compress(final_individual) + static_ending, final_fitness)\n",
    "    )   "
   ]
  },
  {
   "cell_type": "code",
   "execution_count": null,
   "metadata": {},
   "outputs": [],
   "source": []
  },
  {
   "cell_type": "code",
   "execution_count": 11,
   "metadata": {},
   "outputs": [
    {
     "name": "stdout",
     "output_type": "stream",
     "text": [
      "ab mn gd: 0.33\n",
      "cd mn gd: 0.44\n",
      "de mn gd: 0.55\n",
      "fg mn gd: 0.66\n",
      "\n"
     ]
    }
   ],
   "source": [
    "print(text)"
   ]
  },
  {
   "cell_type": "code",
   "execution_count": null,
   "metadata": {},
   "outputs": [],
   "source": []
  }
 ],
 "metadata": {
  "kernelspec": {
   "display_name": "Python 3",
   "language": "python",
   "name": "python3"
  },
  "language_info": {
   "codemirror_mode": {
    "name": "ipython",
    "version": 3
   },
   "file_extension": ".py",
   "mimetype": "text/x-python",
   "name": "python",
   "nbconvert_exporter": "python",
   "pygments_lexer": "ipython3",
   "version": "3.7.3"
  }
 },
 "nbformat": 4,
 "nbformat_minor": 4
}
